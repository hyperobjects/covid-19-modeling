{
 "cells": [
  {
   "cell_type": "markdown",
   "metadata": {},
   "source": [
    "# Exploratory Data Analysis, Linear Regression, and Time Series Modeling with COVID19 Worldwide Aggregated Data. "
   ]
  },
  {
   "cell_type": "code",
   "execution_count": 1,
   "metadata": {},
   "outputs": [
    {
     "name": "stdout",
     "output_type": "stream",
     "text": [
      "--2020-05-07 16:40:05--  https://raw.githubusercontent.com/datasets/covid-19/master/data/worldwide-aggregated.csv\n",
      "Resolving raw.githubusercontent.com (raw.githubusercontent.com)... 199.232.36.133\n",
      "Connecting to raw.githubusercontent.com (raw.githubusercontent.com)|199.232.36.133|:443... connected.\n",
      "HTTP request sent, awaiting response... 200 OK\n",
      "Length: 5192 (5.1K) [text/plain]\n",
      "Saving to: ‘worldwide-aggregated.csv’\n",
      "\n",
      "worldwide-aggregate 100%[===================>]   5.07K  --.-KB/s    in 0s      \n",
      "\n",
      "2020-05-07 16:40:05 (17.5 MB/s) - ‘worldwide-aggregated.csv’ saved [5192/5192]\n",
      "\n"
     ]
    }
   ],
   "source": [
    "# first step get data\n",
    "!wget https://raw.githubusercontent.com/datasets/covid-19/master/data/worldwide-aggregated.csv"
   ]
  },
  {
   "cell_type": "code",
   "execution_count": 2,
   "metadata": {},
   "outputs": [],
   "source": [
    "import pandas as pd\n",
    "import numpy as np\n",
    "\n",
    "from sklearn import metrics\n",
    "from sklearn.model_selection import train_test_split\n",
    "from sklearn.linear_model import LinearRegression\n",
    "\n",
    "import seaborn as sns\n",
    "import matplotlib.pyplot as plt\n",
    "%matplotlib inline"
   ]
  },
  {
   "cell_type": "code",
   "execution_count": 3,
   "metadata": {},
   "outputs": [
    {
     "data": {
      "text/plain": [
       "(106, 5)"
      ]
     },
     "execution_count": 3,
     "metadata": {},
     "output_type": "execute_result"
    }
   ],
   "source": [
    "# open csv file \n",
    "covid_data = pd.read_csv('worldwide-aggregated.csv')\n",
    "# get shape of data\n",
    "covid_data.shape"
   ]
  },
  {
   "cell_type": "code",
   "execution_count": 4,
   "metadata": {},
   "outputs": [
    {
     "name": "stdout",
     "output_type": "stream",
     "text": [
      "<class 'pandas.core.frame.DataFrame'>\n",
      "RangeIndex: 106 entries, 0 to 105\n",
      "Data columns (total 5 columns):\n",
      "Date             106 non-null object\n",
      "Confirmed        106 non-null int64\n",
      "Recovered        106 non-null int64\n",
      "Deaths           106 non-null int64\n",
      "Increase rate    105 non-null float64\n",
      "dtypes: float64(1), int64(3), object(1)\n",
      "memory usage: 4.2+ KB\n"
     ]
    }
   ],
   "source": [
    "# get info about dataframe\n",
    "covid_data.info()"
   ]
  },
  {
   "cell_type": "code",
   "execution_count": 5,
   "metadata": {},
   "outputs": [
    {
     "data": {
      "text/html": [
       "<div>\n",
       "<style scoped>\n",
       "    .dataframe tbody tr th:only-of-type {\n",
       "        vertical-align: middle;\n",
       "    }\n",
       "\n",
       "    .dataframe tbody tr th {\n",
       "        vertical-align: top;\n",
       "    }\n",
       "\n",
       "    .dataframe thead th {\n",
       "        text-align: right;\n",
       "    }\n",
       "</style>\n",
       "<table border=\"1\" class=\"dataframe\">\n",
       "  <thead>\n",
       "    <tr style=\"text-align: right;\">\n",
       "      <th></th>\n",
       "      <th>Date</th>\n",
       "      <th>Confirmed</th>\n",
       "      <th>Recovered</th>\n",
       "      <th>Deaths</th>\n",
       "      <th>Increase rate</th>\n",
       "    </tr>\n",
       "  </thead>\n",
       "  <tbody>\n",
       "    <tr>\n",
       "      <th>0</th>\n",
       "      <td>2020-01-22</td>\n",
       "      <td>555</td>\n",
       "      <td>28</td>\n",
       "      <td>17</td>\n",
       "      <td>NaN</td>\n",
       "    </tr>\n",
       "    <tr>\n",
       "      <th>1</th>\n",
       "      <td>2020-01-23</td>\n",
       "      <td>654</td>\n",
       "      <td>30</td>\n",
       "      <td>18</td>\n",
       "      <td>17.837838</td>\n",
       "    </tr>\n",
       "    <tr>\n",
       "      <th>2</th>\n",
       "      <td>2020-01-24</td>\n",
       "      <td>941</td>\n",
       "      <td>36</td>\n",
       "      <td>26</td>\n",
       "      <td>43.883792</td>\n",
       "    </tr>\n",
       "    <tr>\n",
       "      <th>3</th>\n",
       "      <td>2020-01-25</td>\n",
       "      <td>1434</td>\n",
       "      <td>39</td>\n",
       "      <td>42</td>\n",
       "      <td>52.391073</td>\n",
       "    </tr>\n",
       "    <tr>\n",
       "      <th>4</th>\n",
       "      <td>2020-01-26</td>\n",
       "      <td>2118</td>\n",
       "      <td>52</td>\n",
       "      <td>56</td>\n",
       "      <td>47.698745</td>\n",
       "    </tr>\n",
       "  </tbody>\n",
       "</table>\n",
       "</div>"
      ],
      "text/plain": [
       "         Date  Confirmed  Recovered  Deaths  Increase rate\n",
       "0  2020-01-22        555         28      17            NaN\n",
       "1  2020-01-23        654         30      18      17.837838\n",
       "2  2020-01-24        941         36      26      43.883792\n",
       "3  2020-01-25       1434         39      42      52.391073\n",
       "4  2020-01-26       2118         52      56      47.698745"
      ]
     },
     "execution_count": 5,
     "metadata": {},
     "output_type": "execute_result"
    }
   ],
   "source": [
    "# check out the head of the data\n",
    "covid_data.head()"
   ]
  },
  {
   "cell_type": "code",
   "execution_count": 6,
   "metadata": {},
   "outputs": [
    {
     "data": {
      "text/html": [
       "<div>\n",
       "<style scoped>\n",
       "    .dataframe tbody tr th:only-of-type {\n",
       "        vertical-align: middle;\n",
       "    }\n",
       "\n",
       "    .dataframe tbody tr th {\n",
       "        vertical-align: top;\n",
       "    }\n",
       "\n",
       "    .dataframe thead th {\n",
       "        text-align: right;\n",
       "    }\n",
       "</style>\n",
       "<table border=\"1\" class=\"dataframe\">\n",
       "  <thead>\n",
       "    <tr style=\"text-align: right;\">\n",
       "      <th></th>\n",
       "      <th>Date</th>\n",
       "      <th>Confirmed</th>\n",
       "      <th>Recovered</th>\n",
       "      <th>Deaths</th>\n",
       "      <th>Increase rate</th>\n",
       "    </tr>\n",
       "  </thead>\n",
       "  <tbody>\n",
       "    <tr>\n",
       "      <th>101</th>\n",
       "      <td>2020-05-02</td>\n",
       "      <td>3427343</td>\n",
       "      <td>1093112</td>\n",
       "      <td>243808</td>\n",
       "      <td>2.499150</td>\n",
       "    </tr>\n",
       "    <tr>\n",
       "      <th>102</th>\n",
       "      <td>2020-05-03</td>\n",
       "      <td>3506729</td>\n",
       "      <td>1125236</td>\n",
       "      <td>247470</td>\n",
       "      <td>2.316255</td>\n",
       "    </tr>\n",
       "    <tr>\n",
       "      <th>103</th>\n",
       "      <td>2020-05-04</td>\n",
       "      <td>3583055</td>\n",
       "      <td>1162724</td>\n",
       "      <td>251537</td>\n",
       "      <td>2.176558</td>\n",
       "    </tr>\n",
       "    <tr>\n",
       "      <th>104</th>\n",
       "      <td>2020-05-05</td>\n",
       "      <td>3662691</td>\n",
       "      <td>1198832</td>\n",
       "      <td>257239</td>\n",
       "      <td>2.222573</td>\n",
       "    </tr>\n",
       "    <tr>\n",
       "      <th>105</th>\n",
       "      <td>2020-05-06</td>\n",
       "      <td>3755341</td>\n",
       "      <td>1245413</td>\n",
       "      <td>263831</td>\n",
       "      <td>2.529561</td>\n",
       "    </tr>\n",
       "  </tbody>\n",
       "</table>\n",
       "</div>"
      ],
      "text/plain": [
       "           Date  Confirmed  Recovered  Deaths  Increase rate\n",
       "101  2020-05-02    3427343    1093112  243808       2.499150\n",
       "102  2020-05-03    3506729    1125236  247470       2.316255\n",
       "103  2020-05-04    3583055    1162724  251537       2.176558\n",
       "104  2020-05-05    3662691    1198832  257239       2.222573\n",
       "105  2020-05-06    3755341    1245413  263831       2.529561"
      ]
     },
     "execution_count": 6,
     "metadata": {},
     "output_type": "execute_result"
    }
   ],
   "source": [
    "# check out the tail\n",
    "covid_data.tail()"
   ]
  },
  {
   "cell_type": "code",
   "execution_count": 7,
   "metadata": {},
   "outputs": [
    {
     "data": {
      "text/html": [
       "<div>\n",
       "<style scoped>\n",
       "    .dataframe tbody tr th:only-of-type {\n",
       "        vertical-align: middle;\n",
       "    }\n",
       "\n",
       "    .dataframe tbody tr th {\n",
       "        vertical-align: top;\n",
       "    }\n",
       "\n",
       "    .dataframe thead th {\n",
       "        text-align: right;\n",
       "    }\n",
       "</style>\n",
       "<table border=\"1\" class=\"dataframe\">\n",
       "  <thead>\n",
       "    <tr style=\"text-align: right;\">\n",
       "      <th></th>\n",
       "      <th>Date</th>\n",
       "      <th>Confirmed</th>\n",
       "      <th>Recovered</th>\n",
       "      <th>Deaths</th>\n",
       "      <th>Increase rate</th>\n",
       "    </tr>\n",
       "  </thead>\n",
       "  <tbody>\n",
       "    <tr>\n",
       "      <th>0</th>\n",
       "      <td>2020-01-22</td>\n",
       "      <td>555</td>\n",
       "      <td>28</td>\n",
       "      <td>17</td>\n",
       "      <td>0.000000</td>\n",
       "    </tr>\n",
       "    <tr>\n",
       "      <th>1</th>\n",
       "      <td>2020-01-23</td>\n",
       "      <td>654</td>\n",
       "      <td>30</td>\n",
       "      <td>18</td>\n",
       "      <td>17.837838</td>\n",
       "    </tr>\n",
       "    <tr>\n",
       "      <th>2</th>\n",
       "      <td>2020-01-24</td>\n",
       "      <td>941</td>\n",
       "      <td>36</td>\n",
       "      <td>26</td>\n",
       "      <td>43.883792</td>\n",
       "    </tr>\n",
       "    <tr>\n",
       "      <th>3</th>\n",
       "      <td>2020-01-25</td>\n",
       "      <td>1434</td>\n",
       "      <td>39</td>\n",
       "      <td>42</td>\n",
       "      <td>52.391073</td>\n",
       "    </tr>\n",
       "    <tr>\n",
       "      <th>4</th>\n",
       "      <td>2020-01-26</td>\n",
       "      <td>2118</td>\n",
       "      <td>52</td>\n",
       "      <td>56</td>\n",
       "      <td>47.698745</td>\n",
       "    </tr>\n",
       "  </tbody>\n",
       "</table>\n",
       "</div>"
      ],
      "text/plain": [
       "         Date  Confirmed  Recovered  Deaths  Increase rate\n",
       "0  2020-01-22        555         28      17       0.000000\n",
       "1  2020-01-23        654         30      18      17.837838\n",
       "2  2020-01-24        941         36      26      43.883792\n",
       "3  2020-01-25       1434         39      42      52.391073\n",
       "4  2020-01-26       2118         52      56      47.698745"
      ]
     },
     "execution_count": 7,
     "metadata": {},
     "output_type": "execute_result"
    }
   ],
   "source": [
    "# fill in missing values\n",
    "covid_data = covid_data.fillna(0)\n",
    "covid_data[:5]"
   ]
  },
  {
   "cell_type": "code",
   "execution_count": 8,
   "metadata": {},
   "outputs": [
    {
     "data": {
      "text/html": [
       "<div>\n",
       "<style scoped>\n",
       "    .dataframe tbody tr th:only-of-type {\n",
       "        vertical-align: middle;\n",
       "    }\n",
       "\n",
       "    .dataframe tbody tr th {\n",
       "        vertical-align: top;\n",
       "    }\n",
       "\n",
       "    .dataframe thead th {\n",
       "        text-align: right;\n",
       "    }\n",
       "</style>\n",
       "<table border=\"1\" class=\"dataframe\">\n",
       "  <thead>\n",
       "    <tr style=\"text-align: right;\">\n",
       "      <th></th>\n",
       "      <th>Confirmed</th>\n",
       "      <th>Recovered</th>\n",
       "      <th>Deaths</th>\n",
       "      <th>Increase rate</th>\n",
       "    </tr>\n",
       "  </thead>\n",
       "  <tbody>\n",
       "    <tr>\n",
       "      <th>count</th>\n",
       "      <td>1.060000e+02</td>\n",
       "      <td>1.060000e+02</td>\n",
       "      <td>106.000000</td>\n",
       "      <td>106.000000</td>\n",
       "    </tr>\n",
       "    <tr>\n",
       "      <th>mean</th>\n",
       "      <td>8.955462e+05</td>\n",
       "      <td>2.479965e+05</td>\n",
       "      <td>58846.462264</td>\n",
       "      <td>9.278812</td>\n",
       "    </tr>\n",
       "    <tr>\n",
       "      <th>std</th>\n",
       "      <td>1.162761e+06</td>\n",
       "      <td>3.423312e+05</td>\n",
       "      <td>83208.630240</td>\n",
       "      <td>12.840229</td>\n",
       "    </tr>\n",
       "    <tr>\n",
       "      <th>min</th>\n",
       "      <td>5.550000e+02</td>\n",
       "      <td>2.800000e+01</td>\n",
       "      <td>17.000000</td>\n",
       "      <td>0.000000</td>\n",
       "    </tr>\n",
       "    <tr>\n",
       "      <th>25%</th>\n",
       "      <td>7.372750e+04</td>\n",
       "      <td>1.302525e+04</td>\n",
       "      <td>1902.750000</td>\n",
       "      <td>2.666570</td>\n",
       "    </tr>\n",
       "    <tr>\n",
       "      <th>50%</th>\n",
       "      <td>1.617910e+05</td>\n",
       "      <td>7.432900e+04</td>\n",
       "      <td>6151.000000</td>\n",
       "      <td>4.740523</td>\n",
       "    </tr>\n",
       "    <tr>\n",
       "      <th>75%</th>\n",
       "      <td>1.634831e+06</td>\n",
       "      <td>3.705658e+05</td>\n",
       "      <td>106305.250000</td>\n",
       "      <td>10.629722</td>\n",
       "    </tr>\n",
       "    <tr>\n",
       "      <th>max</th>\n",
       "      <td>3.755341e+06</td>\n",
       "      <td>1.245413e+06</td>\n",
       "      <td>263831.000000</td>\n",
       "      <td>90.570550</td>\n",
       "    </tr>\n",
       "  </tbody>\n",
       "</table>\n",
       "</div>"
      ],
      "text/plain": [
       "          Confirmed     Recovered         Deaths  Increase rate\n",
       "count  1.060000e+02  1.060000e+02     106.000000     106.000000\n",
       "mean   8.955462e+05  2.479965e+05   58846.462264       9.278812\n",
       "std    1.162761e+06  3.423312e+05   83208.630240      12.840229\n",
       "min    5.550000e+02  2.800000e+01      17.000000       0.000000\n",
       "25%    7.372750e+04  1.302525e+04    1902.750000       2.666570\n",
       "50%    1.617910e+05  7.432900e+04    6151.000000       4.740523\n",
       "75%    1.634831e+06  3.705658e+05  106305.250000      10.629722\n",
       "max    3.755341e+06  1.245413e+06  263831.000000      90.570550"
      ]
     },
     "execution_count": 8,
     "metadata": {},
     "output_type": "execute_result"
    }
   ],
   "source": [
    "# get descriptive stats on the data\n",
    "covid_data.describe()"
   ]
  },
  {
   "cell_type": "code",
   "execution_count": 9,
   "metadata": {},
   "outputs": [],
   "source": [
    "# set date to index\n",
    "covid_data['Date'] = pd.to_datetime(covid_data['Date'])\n",
    "covid_data = covid_data.set_index('Date')"
   ]
  },
  {
   "cell_type": "code",
   "execution_count": 10,
   "metadata": {},
   "outputs": [
    {
     "data": {
      "text/plain": [
       "Text(0, 0.5, 'Deaths')"
      ]
     },
     "execution_count": 10,
     "metadata": {},
     "output_type": "execute_result"
    },
    {
     "data": {
      "image/png": "[encoded data removed]",
      "text/plain": [
       "<Figure size 432x288 with 1 Axes>"
      ]
     },
     "metadata": {
      "needs_background": "light"
     },
     "output_type": "display_data"
    }
   ],
   "source": [
    "# real quick, let's do a line plot of deaths over time\n",
    "covid_data['Deaths'].plot.line()\n",
    "plt.title('COVID-19 deaths to date')\n",
    "plt.ylabel('Deaths')"
   ]
  },
  {
   "cell_type": "code",
   "execution_count": 11,
   "metadata": {},
   "outputs": [
    {
     "data": {
      "text/plain": [
       "Text(0, 0.5, '% of recovered patients')"
      ]
     },
     "execution_count": 11,
     "metadata": {},
     "output_type": "execute_result"
    },
    {
     "data": {
      "image/png": "[encoded data removed]",
      "text/plain": [
       "<Figure size 432x288 with 1 Axes>"
      ]
     },
     "metadata": {
      "needs_background": "light"
     },
     "output_type": "display_data"
    }
   ],
   "source": [
    "# calculate recovery Rate\n",
    "(covid_data['Recovered'] / covid_data['Confirmed']).plot.line()\n",
    "plt.title(\"COVID19 recovery rate\")\n",
    "plt.ylabel('% of recovered patients')"
   ]
  },
  {
   "cell_type": "code",
   "execution_count": 12,
   "metadata": {},
   "outputs": [
    {
     "data": {
      "text/plain": [
       "Text(0.5, 1.0, 'Aggregated worldwide COVID-19 mortality rate')"
      ]
     },
     "execution_count": 12,
     "metadata": {},
     "output_type": "execute_result"
    },
    {
     "data": {
      "image/png": "[encoded data removed]",
      "text/plain": [
       "<Figure size 432x288 with 1 Axes>"
      ]
     },
     "metadata": {
      "needs_background": "light"
     },
     "output_type": "display_data"
    }
   ],
   "source": [
    "# calculate mortality rate\n",
    "(covid_data['Deaths'] / covid_data['Confirmed']).plot.line()\n",
    "plt.title(\"Aggregated worldwide COVID-19 mortality rate\")"
   ]
  },
  {
   "cell_type": "code",
   "execution_count": 13,
   "metadata": {},
   "outputs": [
    {
     "data": {
      "text/plain": [
       "Text(0.5, 1.0, 'Increase in COVID-19 cases worldwide')"
      ]
     },
     "execution_count": 13,
     "metadata": {},
     "output_type": "execute_result"
    },
    {
     "data": {
      "image/png": "[encoded data removed]",
      "text/plain": [
       "<Figure size 432x288 with 1 Axes>"
      ]
     },
     "metadata": {
      "needs_background": "light"
     },
     "output_type": "display_data"
    }
   ],
   "source": [
    "# plot increase rate\n",
    "covid_data['Increase rate'].plot.line()\n",
    "plt.title(\"Increase in COVID-19 cases worldwide\")"
   ]
  },
  {
   "cell_type": "code",
   "execution_count": 14,
   "metadata": {},
   "outputs": [
    {
     "data": {
      "text/plain": [
       "<seaborn.axisgrid.PairGrid at 0x1a23f74d30>"
      ]
     },
     "execution_count": 14,
     "metadata": {},
     "output_type": "execute_result"
    },
    {
     "data": {
      "image/png": "[encoded data removed]",
      "text/plain": [
       "<Figure size 720x720 with 20 Axes>"
      ]
     },
     "metadata": {
      "needs_background": "light"
     },
     "output_type": "display_data"
    }
   ],
   "source": [
    "# Use seaborn pairplot to visualize correlations in covid-19 dataset\n",
    "sns.pairplot(covid_data)"
   ]
  },
  {
   "cell_type": "code",
   "execution_count": 15,
   "metadata": {},
   "outputs": [
    {
     "data": {
      "text/html": [
       "<div>\n",
       "<style scoped>\n",
       "    .dataframe tbody tr th:only-of-type {\n",
       "        vertical-align: middle;\n",
       "    }\n",
       "\n",
       "    .dataframe tbody tr th {\n",
       "        vertical-align: top;\n",
       "    }\n",
       "\n",
       "    .dataframe thead th {\n",
       "        text-align: right;\n",
       "    }\n",
       "</style>\n",
       "<table border=\"1\" class=\"dataframe\">\n",
       "  <thead>\n",
       "    <tr style=\"text-align: right;\">\n",
       "      <th></th>\n",
       "      <th>Confirmed</th>\n",
       "      <th>Recovered</th>\n",
       "      <th>Deaths</th>\n",
       "      <th>Increase rate</th>\n",
       "    </tr>\n",
       "  </thead>\n",
       "  <tbody>\n",
       "    <tr>\n",
       "      <th>Confirmed</th>\n",
       "      <td>1.000000</td>\n",
       "      <td>0.987931</td>\n",
       "      <td>0.998202</td>\n",
       "      <td>-0.308342</td>\n",
       "    </tr>\n",
       "    <tr>\n",
       "      <th>Recovered</th>\n",
       "      <td>0.987931</td>\n",
       "      <td>1.000000</td>\n",
       "      <td>0.991173</td>\n",
       "      <td>-0.304211</td>\n",
       "    </tr>\n",
       "    <tr>\n",
       "      <th>Deaths</th>\n",
       "      <td>0.998202</td>\n",
       "      <td>0.991173</td>\n",
       "      <td>1.000000</td>\n",
       "      <td>-0.298765</td>\n",
       "    </tr>\n",
       "    <tr>\n",
       "      <th>Increase rate</th>\n",
       "      <td>-0.308342</td>\n",
       "      <td>-0.304211</td>\n",
       "      <td>-0.298765</td>\n",
       "      <td>1.000000</td>\n",
       "    </tr>\n",
       "  </tbody>\n",
       "</table>\n",
       "</div>"
      ],
      "text/plain": [
       "               Confirmed  Recovered    Deaths  Increase rate\n",
       "Confirmed       1.000000   0.987931  0.998202      -0.308342\n",
       "Recovered       0.987931   1.000000  0.991173      -0.304211\n",
       "Deaths          0.998202   0.991173  1.000000      -0.298765\n",
       "Increase rate  -0.308342  -0.304211 -0.298765       1.000000"
      ]
     },
     "execution_count": 15,
     "metadata": {},
     "output_type": "execute_result"
    }
   ],
   "source": [
    "# just the numbers on how the variables correlate\n",
    "covid_data.corr()"
   ]
  },
  {
   "cell_type": "code",
   "execution_count": 16,
   "metadata": {},
   "outputs": [],
   "source": [
    "# use highest corr var as X \n",
    "X = covid_data['Confirmed'].values.reshape(-1,1)\n",
    "y = covid_data['Deaths'].values.reshape(-1,1)"
   ]
  },
  {
   "cell_type": "code",
   "execution_count": 17,
   "metadata": {},
   "outputs": [],
   "source": [
    "# split the data 80% in train and 20% in test set\n",
    "X_train, X_test, y_train, y_test = train_test_split(X, y, test_size=0.2,random_state=1)"
   ]
  },
  {
   "cell_type": "code",
   "execution_count": 18,
   "metadata": {},
   "outputs": [
    {
     "data": {
      "text/plain": [
       "((84, 1), (84, 1))"
      ]
     },
     "execution_count": 18,
     "metadata": {},
     "output_type": "execute_result"
    }
   ],
   "source": [
    "# check to make sure X and y have the same shape\n",
    "X_train.shape, y_train.shape"
   ]
  },
  {
   "cell_type": "code",
   "execution_count": 19,
   "metadata": {},
   "outputs": [],
   "source": [
    "# fit regression model to training data\n",
    "lr = LinearRegression().fit(X_train, y_train)"
   ]
  },
  {
   "cell_type": "code",
   "execution_count": 20,
   "metadata": {},
   "outputs": [
    {
     "name": "stdout",
     "output_type": "stream",
     "text": [
      "intercept: [-4743.07296556] coef: [[0.07122419]]\n"
     ]
    }
   ],
   "source": [
    "# display intercept and coef\n",
    "print('intercept:', lr.intercept_, 'coef:', lr.coef_)"
   ]
  },
  {
   "cell_type": "code",
   "execution_count": 21,
   "metadata": {},
   "outputs": [],
   "source": [
    "# now predict values of regression set \n",
    "y_pred = lr.predict(X_test)"
   ]
  },
  {
   "cell_type": "code",
   "execution_count": 22,
   "metadata": {},
   "outputs": [
    {
     "data": {
      "text/html": [
       "<div>\n",
       "<style scoped>\n",
       "    .dataframe tbody tr th:only-of-type {\n",
       "        vertical-align: middle;\n",
       "    }\n",
       "\n",
       "    .dataframe tbody tr th {\n",
       "        vertical-align: top;\n",
       "    }\n",
       "\n",
       "    .dataframe thead th {\n",
       "        text-align: right;\n",
       "    }\n",
       "</style>\n",
       "<table border=\"1\" class=\"dataframe\">\n",
       "  <thead>\n",
       "    <tr style=\"text-align: right;\">\n",
       "      <th></th>\n",
       "      <th>Actual # of Deaths</th>\n",
       "      <th>Predicted # of Deaths</th>\n",
       "    </tr>\n",
       "  </thead>\n",
       "  <tbody>\n",
       "    <tr>\n",
       "      <th>0</th>\n",
       "      <td>31797</td>\n",
       "      <td>42323.578081</td>\n",
       "    </tr>\n",
       "    <tr>\n",
       "      <th>1</th>\n",
       "      <td>2770</td>\n",
       "      <td>1053.721030</td>\n",
       "    </tr>\n",
       "    <tr>\n",
       "      <th>2</th>\n",
       "      <td>13125</td>\n",
       "      <td>16948.608798</td>\n",
       "    </tr>\n",
       "    <tr>\n",
       "      <th>3</th>\n",
       "      <td>93354</td>\n",
       "      <td>100682.966159</td>\n",
       "    </tr>\n",
       "    <tr>\n",
       "      <th>4</th>\n",
       "      <td>2996</td>\n",
       "      <td>1550.937068</td>\n",
       "    </tr>\n",
       "    <tr>\n",
       "      <th>5</th>\n",
       "      <td>8823</td>\n",
       "      <td>10559.158356</td>\n",
       "    </tr>\n",
       "    <tr>\n",
       "      <th>6</th>\n",
       "      <td>7956</td>\n",
       "      <td>9296.139877</td>\n",
       "    </tr>\n",
       "    <tr>\n",
       "      <th>7</th>\n",
       "      <td>163214</td>\n",
       "      <td>160307.509442</td>\n",
       "    </tr>\n",
       "    <tr>\n",
       "      <th>8</th>\n",
       "      <td>2458</td>\n",
       "      <td>853.153724</td>\n",
       "    </tr>\n",
       "    <tr>\n",
       "      <th>9</th>\n",
       "      <td>11422</td>\n",
       "      <td>14647.497818</td>\n",
       "    </tr>\n",
       "    <tr>\n",
       "      <th>10</th>\n",
       "      <td>238619</td>\n",
       "      <td>233414.719784</td>\n",
       "    </tr>\n",
       "    <tr>\n",
       "      <th>11</th>\n",
       "      <td>4263</td>\n",
       "      <td>3705.539898</td>\n",
       "    </tr>\n",
       "    <tr>\n",
       "      <th>12</th>\n",
       "      <td>199999</td>\n",
       "      <td>194390.846193</td>\n",
       "    </tr>\n",
       "    <tr>\n",
       "      <th>13</th>\n",
       "      <td>6472</td>\n",
       "      <td>7184.556455</td>\n",
       "    </tr>\n",
       "    <tr>\n",
       "      <th>14</th>\n",
       "      <td>2629</td>\n",
       "      <td>923.594443</td>\n",
       "    </tr>\n",
       "    <tr>\n",
       "      <th>15</th>\n",
       "      <td>180237</td>\n",
       "      <td>176819.839672</td>\n",
       "    </tr>\n",
       "    <tr>\n",
       "      <th>16</th>\n",
       "      <td>2941</td>\n",
       "      <td>1382.990439</td>\n",
       "    </tr>\n",
       "    <tr>\n",
       "      <th>17</th>\n",
       "      <td>49675</td>\n",
       "      <td>61683.308792</td>\n",
       "    </tr>\n",
       "    <tr>\n",
       "      <th>18</th>\n",
       "      <td>806</td>\n",
       "      <td>-2099.231206</td>\n",
       "    </tr>\n",
       "    <tr>\n",
       "      <th>19</th>\n",
       "      <td>73076</td>\n",
       "      <td>84268.426736</td>\n",
       "    </tr>\n",
       "    <tr>\n",
       "      <th>20</th>\n",
       "      <td>251537</td>\n",
       "      <td>250457.100401</td>\n",
       "    </tr>\n",
       "    <tr>\n",
       "      <th>21</th>\n",
       "      <td>167773</td>\n",
       "      <td>166258.646247</td>\n",
       "    </tr>\n",
       "  </tbody>\n",
       "</table>\n",
       "</div>"
      ],
      "text/plain": [
       "    Actual # of Deaths  Predicted # of Deaths\n",
       "0                31797           42323.578081\n",
       "1                 2770            1053.721030\n",
       "2                13125           16948.608798\n",
       "3                93354          100682.966159\n",
       "4                 2996            1550.937068\n",
       "5                 8823           10559.158356\n",
       "6                 7956            9296.139877\n",
       "7               163214          160307.509442\n",
       "8                 2458             853.153724\n",
       "9                11422           14647.497818\n",
       "10              238619          233414.719784\n",
       "11                4263            3705.539898\n",
       "12              199999          194390.846193\n",
       "13                6472            7184.556455\n",
       "14                2629             923.594443\n",
       "15              180237          176819.839672\n",
       "16                2941            1382.990439\n",
       "17               49675           61683.308792\n",
       "18                 806           -2099.231206\n",
       "19               73076           84268.426736\n",
       "20              251537          250457.100401\n",
       "21              167773          166258.646247"
      ]
     },
     "execution_count": 22,
     "metadata": {},
     "output_type": "execute_result"
    }
   ],
   "source": [
    "# create and display a dataframe with actual and predicted numbers of deaths\n",
    "df = pd.DataFrame({'Actual # of Deaths': y_test.flatten(), 'Predicted # of Deaths': y_pred.flatten()})\n",
    "df"
   ]
  },
  {
   "cell_type": "code",
   "execution_count": 23,
   "metadata": {},
   "outputs": [
    {
     "name": "stdout",
     "output_type": "stream",
     "text": [
      "Mean Absolute Error: 3778.0397243537705\n",
      "Mean Squared Error: 25825026.970392775\n",
      "Root Mean Squared Error: 5081.833032518166\n"
     ]
    }
   ],
   "source": [
    "# now let's look at the error in this model\n",
    "print('Mean Absolute Error:', metrics.mean_absolute_error(y_test, y_pred))  \n",
    "print('Mean Squared Error:', metrics.mean_squared_error(y_test, y_pred))  \n",
    "print('Root Mean Squared Error:', np.sqrt(metrics.mean_squared_error(y_test, y_pred)))"
   ]
  },
  {
   "cell_type": "code",
   "execution_count": 24,
   "metadata": {},
   "outputs": [
    {
     "data": {
      "image/png": "[encoded data removed]",
      "text/plain": [
       "<Figure size 432x288 with 1 Axes>"
      ]
     },
     "metadata": {
      "needs_background": "light"
     },
     "output_type": "display_data"
    }
   ],
   "source": [
    "# linear regression line plot with test data\n",
    "plt.scatter(X_test, y_test, color='black')\n",
    "plt.scatter(X_test, y_pred,  color='red')\n",
    "plt.plot(X_test, y_pred,  color='teal',linewidth=2)\n",
    "\n",
    "plt.title('Linear Regression for deaths from COVID-19')  \n",
    "plt.xlabel('Confirmed Cases')  \n",
    "plt.ylabel('Deaths')\n",
    "\n",
    "plt.show()"
   ]
  },
  {
   "cell_type": "code",
   "execution_count": 25,
   "metadata": {},
   "outputs": [
    {
     "name": "stdout",
     "output_type": "stream",
     "text": [
      "Model accuracy score: 0.996473300985548\n"
     ]
    }
   ],
   "source": [
    "# Use score to get accuracy of model\n",
    "score = lr.score(X_test, y_test)\n",
    "print('Model accuracy score:', score)"
   ]
  },
  {
   "cell_type": "code",
   "execution_count": 26,
   "metadata": {},
   "outputs": [
    {
     "data": {
      "image/png": "[encoded data removed]",
      "text/plain": [
       "<Figure size 432x288 with 1 Axes>"
      ]
     },
     "metadata": {
      "needs_background": "light"
     },
     "output_type": "display_data"
    },
    {
     "name": "stdout",
     "output_type": "stream",
     "text": [
      "intercept: [-484.67611832] coef: [[0.24029459]]\n",
      "Mean Absolute Error: 10206.594841895103\n",
      "Mean Squared Error: 148514146.00387374\n",
      "Root Mean Squared Error: 12186.638010701465\n",
      "Model accuracy score: 0.9797187165401791\n"
     ]
    }
   ],
   "source": [
    "# Now let's redraw the line for the second highest correlated var, Recovered\n",
    "X = covid_data['Recovered'].values.reshape(-1,1)\n",
    "y = covid_data['Deaths'].values.reshape(-1,1)\n",
    "\n",
    "# split data\n",
    "X_train, X_test, y_train, y_test = train_test_split(X, y, test_size=0.2,random_state=1)\n",
    "\n",
    "#from sklearn.linear_model import LogisticRegression\n",
    "# fit regression model to training data\n",
    "lr = LinearRegression().fit(X_train, y_train)\n",
    "\n",
    "# now predict values of regression set \n",
    "y_pred = lr.predict(X_test)\n",
    "\n",
    "# Display dataframe of actual and predicted # of deaths\n",
    "df = pd.DataFrame({'Actual # of Deaths': y_test.flatten(), 'Predicted # of Deaths': y_pred.flatten()})\n",
    "df\n",
    "\n",
    "# linear regression line plot with test data\n",
    "plt.scatter(X_test, y_test)\n",
    "plt.scatter(X_test, y_pred, color='gray')\n",
    "plt.plot(X_test, y_pred, color='red',linewidth=2)\n",
    "plt.title('Recovered Cases and Deaths from COVID-19')  \n",
    "plt.xlabel('Recovered')  \n",
    "plt.ylabel('Deaths')  \n",
    "\n",
    "plt.show()\n",
    "\n",
    "# display intercept and coef\n",
    "print('intercept:', lr.intercept_, 'coef:', lr.coef_)\n",
    "#print()\n",
    "\n",
    "# display error \n",
    "print('Mean Absolute Error:', metrics.mean_absolute_error(y_test, y_pred))  \n",
    "print('Mean Squared Error:', metrics.mean_squared_error(y_test, y_pred))  \n",
    "print('Root Mean Squared Error:', np.sqrt(metrics.mean_squared_error(y_test, y_pred)))\n",
    "\n",
    "# Use score to get accuracy of model\n",
    "score = lr.score(X_test, y_test)\n",
    "print('Model accuracy score:', score)"
   ]
  },
  {
   "cell_type": "code",
   "execution_count": 27,
   "metadata": {},
   "outputs": [
    {
     "data": {
      "text/plain": [
       "Index(['Confirmed', 'Recovered', 'Deaths', 'Increase rate'], dtype='object')"
      ]
     },
     "execution_count": 27,
     "metadata": {},
     "output_type": "execute_result"
    }
   ],
   "source": [
    "# check column titles\n",
    "covid_data.columns"
   ]
  },
  {
   "cell_type": "code",
   "execution_count": 28,
   "metadata": {},
   "outputs": [],
   "source": [
    "# Let's try to use the ARIMA and ARMA models\n",
    "from statsmodels.tsa.arima_model import ARIMA\n",
    "from statsmodels.tsa.arima_model import ARMA"
   ]
  },
  {
   "cell_type": "code",
   "execution_count": 29,
   "metadata": {},
   "outputs": [
    {
     "data": {
      "text/plain": [
       "Date\n",
       "2020-01-22    17.0\n",
       "2020-01-23    18.0\n",
       "2020-01-24    26.0\n",
       "2020-01-25    42.0\n",
       "2020-01-26    56.0\n",
       "Name: Deaths, dtype: float64"
      ]
     },
     "execution_count": 29,
     "metadata": {},
     "output_type": "execute_result"
    }
   ],
   "source": [
    "# a different way to set date to index\n",
    "data = pd.read_csv('worldwide-aggregated.csv', index_col=\"Date\")\n",
    "\n",
    "# fill empty obs with zero\n",
    "data = data.fillna(0)\n",
    "\n",
    "# create a log of y\n",
    "log_deaths = np.log(data['Deaths'])\n",
    "log_recovered = np.log(data['Recovered'])\n",
    "log_confirmed = np.log(covid_data['Confirmed'])\n",
    "\n",
    "np.exp(log_deaths).head()"
   ]
  },
  {
   "cell_type": "code",
   "execution_count": 30,
   "metadata": {},
   "outputs": [
    {
     "name": "stderr",
     "output_type": "stream",
     "text": [
      "/anaconda3/lib/python3.7/site-packages/statsmodels/tsa/base/tsa_model.py:171: ValueWarning: No frequency information was provided, so inferred frequency D will be used.\n",
      "  % freq, ValueWarning)\n",
      "/anaconda3/lib/python3.7/site-packages/statsmodels/tsa/base/tsa_model.py:191: FutureWarning: Creating a DatetimeIndex by passing range endpoints is deprecated.  Use `pandas.date_range` instead.\n",
      "  start=index[0], end=index[-1], freq=freq)\n"
     ]
    },
    {
     "data": {
      "text/html": [
       "<div>\n",
       "<style scoped>\n",
       "    .dataframe tbody tr th:only-of-type {\n",
       "        vertical-align: middle;\n",
       "    }\n",
       "\n",
       "    .dataframe tbody tr th {\n",
       "        vertical-align: top;\n",
       "    }\n",
       "\n",
       "    .dataframe thead th {\n",
       "        text-align: right;\n",
       "    }\n",
       "</style>\n",
       "<table border=\"1\" class=\"dataframe\">\n",
       "  <thead>\n",
       "    <tr style=\"text-align: right;\">\n",
       "      <th></th>\n",
       "      <th>Predicted</th>\n",
       "      <th>Actual</th>\n",
       "    </tr>\n",
       "  </thead>\n",
       "  <tbody>\n",
       "    <tr>\n",
       "      <th>2020-05-02</th>\n",
       "      <td>242234.754112</td>\n",
       "      <td>243808.0</td>\n",
       "    </tr>\n",
       "    <tr>\n",
       "      <th>2020-05-03</th>\n",
       "      <td>247337.963454</td>\n",
       "      <td>247470.0</td>\n",
       "    </tr>\n",
       "    <tr>\n",
       "      <th>2020-05-04</th>\n",
       "      <td>249685.404679</td>\n",
       "      <td>251537.0</td>\n",
       "    </tr>\n",
       "    <tr>\n",
       "      <th>2020-05-05</th>\n",
       "      <td>254077.569627</td>\n",
       "      <td>257239.0</td>\n",
       "    </tr>\n",
       "    <tr>\n",
       "      <th>2020-05-06</th>\n",
       "      <td>261147.511264</td>\n",
       "      <td>263831.0</td>\n",
       "    </tr>\n",
       "  </tbody>\n",
       "</table>\n",
       "</div>"
      ],
      "text/plain": [
       "                Predicted    Actual\n",
       "2020-05-02  242234.754112  243808.0\n",
       "2020-05-03  247337.963454  247470.0\n",
       "2020-05-04  249685.404679  251537.0\n",
       "2020-05-05  254077.569627  257239.0\n",
       "2020-05-06  261147.511264  263831.0"
      ]
     },
     "execution_count": 30,
     "metadata": {},
     "output_type": "execute_result"
    }
   ],
   "source": [
    "# fit model\n",
    "arma = ARMA(log_deaths, order=(2, 0, 3)).fit()\n",
    "# make prediction\n",
    "arma_y_pred = arma.predict()\n",
    "# make dataframe with predicted and actual values\n",
    "df = pd.DataFrame({'Predicted': np.exp(arma_y_pred), 'Actual': np.exp(log_deaths)})\n",
    "# display last five\n",
    "df[-5:]"
   ]
  },
  {
   "cell_type": "code",
   "execution_count": 31,
   "metadata": {},
   "outputs": [
    {
     "data": {
      "text/html": [
       "<table class=\"simpletable\">\n",
       "<caption>ARMA Model Results</caption>\n",
       "<tr>\n",
       "  <th>Dep. Variable:</th>      <td>Deaths</td>      <th>  No. Observations:  </th>    <td>106</td>  \n",
       "</tr>\n",
       "<tr>\n",
       "  <th>Model:</th>            <td>ARMA(2, 0)</td>    <th>  Log Likelihood     </th>  <td>124.697</td>\n",
       "</tr>\n",
       "<tr>\n",
       "  <th>Method:</th>             <td>css-mle</td>     <th>  S.D. of innovations</th>   <td>0.071</td> \n",
       "</tr>\n",
       "<tr>\n",
       "  <th>Date:</th>          <td>Thu, 07 May 2020</td> <th>  AIC                </th> <td>-241.394</td>\n",
       "</tr>\n",
       "<tr>\n",
       "  <th>Time:</th>              <td>16:40:12</td>     <th>  BIC                </th> <td>-230.740</td>\n",
       "</tr>\n",
       "<tr>\n",
       "  <th>Sample:</th>           <td>01-22-2020</td>    <th>  HQIC               </th> <td>-237.076</td>\n",
       "</tr>\n",
       "<tr>\n",
       "  <th></th>                 <td>- 05-06-2020</td>   <th>                     </th>     <td> </td>   \n",
       "</tr>\n",
       "</table>\n",
       "<table class=\"simpletable\">\n",
       "<tr>\n",
       "        <td></td>          <th>coef</th>     <th>std err</th>      <th>z</th>      <th>P>|z|</th>  <th>[0.025</th>    <th>0.975]</th>  \n",
       "</tr>\n",
       "<tr>\n",
       "  <th>const</th>        <td>    7.8517</td> <td>    4.022</td> <td>    1.952</td> <td> 0.054</td> <td>   -0.032</td> <td>   15.735</td>\n",
       "</tr>\n",
       "<tr>\n",
       "  <th>ar.L1.Deaths</th> <td>    1.8246</td> <td>    0.039</td> <td>   47.326</td> <td> 0.000</td> <td>    1.749</td> <td>    1.900</td>\n",
       "</tr>\n",
       "<tr>\n",
       "  <th>ar.L2.Deaths</th> <td>   -0.8254</td> <td>    0.039</td> <td>  -21.317</td> <td> 0.000</td> <td>   -0.901</td> <td>   -0.749</td>\n",
       "</tr>\n",
       "</table>\n",
       "<table class=\"simpletable\">\n",
       "<caption>Roots</caption>\n",
       "<tr>\n",
       "    <td></td>   <th>            Real</th>  <th>         Imaginary</th> <th>         Modulus</th>  <th>        Frequency</th>\n",
       "</tr>\n",
       "<tr>\n",
       "  <th>AR.1</th> <td>           1.0044</td> <td>          +0.0000j</td> <td>           1.0044</td> <td>           0.0000</td>\n",
       "</tr>\n",
       "<tr>\n",
       "  <th>AR.2</th> <td>           1.2063</td> <td>          +0.0000j</td> <td>           1.2063</td> <td>           0.0000</td>\n",
       "</tr>\n",
       "</table>"
      ],
      "text/plain": [
       "<class 'statsmodels.iolib.summary.Summary'>\n",
       "\"\"\"\n",
       "                              ARMA Model Results                              \n",
       "==============================================================================\n",
       "Dep. Variable:                 Deaths   No. Observations:                  106\n",
       "Model:                     ARMA(2, 0)   Log Likelihood                 124.697\n",
       "Method:                       css-mle   S.D. of innovations              0.071\n",
       "Date:                Thu, 07 May 2020   AIC                           -241.394\n",
       "Time:                        16:40:12   BIC                           -230.740\n",
       "Sample:                    01-22-2020   HQIC                          -237.076\n",
       "                         - 05-06-2020                                         \n",
       "================================================================================\n",
       "                   coef    std err          z      P>|z|      [0.025      0.975]\n",
       "--------------------------------------------------------------------------------\n",
       "const            7.8517      4.022      1.952      0.054      -0.032      15.735\n",
       "ar.L1.Deaths     1.8246      0.039     47.326      0.000       1.749       1.900\n",
       "ar.L2.Deaths    -0.8254      0.039    -21.317      0.000      -0.901      -0.749\n",
       "                                    Roots                                    \n",
       "=============================================================================\n",
       "                  Real          Imaginary           Modulus         Frequency\n",
       "-----------------------------------------------------------------------------\n",
       "AR.1            1.0044           +0.0000j            1.0044            0.0000\n",
       "AR.2            1.2063           +0.0000j            1.2063            0.0000\n",
       "-----------------------------------------------------------------------------\n",
       "\"\"\""
      ]
     },
     "execution_count": 31,
     "metadata": {},
     "output_type": "execute_result"
    }
   ],
   "source": [
    "# get summary of model \n",
    "arma.summary()"
   ]
  },
  {
   "cell_type": "code",
   "execution_count": 32,
   "metadata": {},
   "outputs": [
    {
     "name": "stderr",
     "output_type": "stream",
     "text": [
      "/anaconda3/lib/python3.7/site-packages/statsmodels/tsa/base/tsa_model.py:336: FutureWarning: Creating a DatetimeIndex by passing range endpoints is deprecated.  Use `pandas.date_range` instead.\n",
      "  freq=base_index.freq)\n"
     ]
    },
    {
     "data": {
      "text/plain": [
       "Text(0.5, 1.0, 'COVID-19 deaths forecast')"
      ]
     },
     "execution_count": 32,
     "metadata": {},
     "output_type": "execute_result"
    },
    {
     "data": {
      "image/png": "[encoded data removed]",
      "text/plain": [
       "<Figure size 432x288 with 1 Axes>"
      ]
     },
     "metadata": {
      "needs_background": "light"
     },
     "output_type": "display_data"
    }
   ],
   "source": [
    "# forecast the number of deaths \n",
    "deaths_forecast = arma.predict(start='2020-01-22', end='2020-5-30')\n",
    "# plot the forecast\n",
    "np.exp(deaths_forecast).plot.line(color='red')\n",
    "plt.title(\"COVID-19 deaths forecast\")"
   ]
  },
  {
   "cell_type": "code",
   "execution_count": 33,
   "metadata": {},
   "outputs": [
    {
     "name": "stderr",
     "output_type": "stream",
     "text": [
      "/anaconda3/lib/python3.7/site-packages/statsmodels/tsa/base/tsa_model.py:171: ValueWarning: No frequency information was provided, so inferred frequency D will be used.\n",
      "  % freq, ValueWarning)\n"
     ]
    },
    {
     "data": {
      "text/plain": [
       "<matplotlib.legend.Legend at 0x1c25ae1e80>"
      ]
     },
     "execution_count": 33,
     "metadata": {},
     "output_type": "execute_result"
    },
    {
     "data": {
      "image/png": "[encoded data removed]",
      "text/plain": [
       "<Figure size 432x288 with 1 Axes>"
      ]
     },
     "metadata": {
      "needs_background": "light"
     },
     "output_type": "display_data"
    }
   ],
   "source": [
    "# fit model for recovery forecast\n",
    "arma_recovered = ARMA(log_recovered, order=(1,1,0)).fit()\n",
    "# make prediction\n",
    "arma_y_pred = arma_recovered.predict()\n",
    "# make dataframe with predicted and actual values\n",
    "df = pd.DataFrame({'Predicted': np.exp(arma_y_pred), 'Actual': np.exp(log_recovered)})\n",
    "# display last five\n",
    "df[-5:]\n",
    "# forecast the number of deaths \n",
    "recovered_forecast = arma_recovered.predict(start='2020-01-22', end='2020-5-30')\n",
    "# plot\n",
    "np.exp(recovered_forecast).plot.line(color='red', label='Forecast')\n",
    "covid_data['Recovered'].plot(color='blue', label='Already recovered')\n",
    "plt.title('COVID-19 recovery forecast')\n",
    "\n",
    "plt.legend()"
   ]
  },
  {
   "cell_type": "code",
   "execution_count": 34,
   "metadata": {},
   "outputs": [
    {
     "data": {
      "text/html": [
       "<table class=\"simpletable\">\n",
       "<caption>ARMA Model Results</caption>\n",
       "<tr>\n",
       "  <th>Dep. Variable:</th>     <td>Recovered</td>    <th>  No. Observations:  </th>    <td>106</td>  \n",
       "</tr>\n",
       "<tr>\n",
       "  <th>Model:</th>            <td>ARMA(1, 1)</td>    <th>  Log Likelihood     </th>  <td>76.524</td> \n",
       "</tr>\n",
       "<tr>\n",
       "  <th>Method:</th>             <td>css-mle</td>     <th>  S.D. of innovations</th>   <td>0.113</td> \n",
       "</tr>\n",
       "<tr>\n",
       "  <th>Date:</th>          <td>Thu, 07 May 2020</td> <th>  AIC                </th> <td>-145.049</td>\n",
       "</tr>\n",
       "<tr>\n",
       "  <th>Time:</th>              <td>16:40:13</td>     <th>  BIC                </th> <td>-134.395</td>\n",
       "</tr>\n",
       "<tr>\n",
       "  <th>Sample:</th>           <td>01-22-2020</td>    <th>  HQIC               </th> <td>-140.731</td>\n",
       "</tr>\n",
       "<tr>\n",
       "  <th></th>                 <td>- 05-06-2020</td>   <th>                     </th>     <td> </td>   \n",
       "</tr>\n",
       "</table>\n",
       "<table class=\"simpletable\">\n",
       "<tr>\n",
       "         <td></td>            <th>coef</th>     <th>std err</th>      <th>z</th>      <th>P>|z|</th>  <th>[0.025</th>    <th>0.975]</th>  \n",
       "</tr>\n",
       "<tr>\n",
       "  <th>const</th>           <td>    8.7608</td> <td>    5.180</td> <td>    1.691</td> <td> 0.094</td> <td>   -1.393</td> <td>   18.914</td>\n",
       "</tr>\n",
       "<tr>\n",
       "  <th>ar.L1.Recovered</th> <td>    0.9994</td> <td>    0.001</td> <td> 1289.849</td> <td> 0.000</td> <td>    0.998</td> <td>    1.001</td>\n",
       "</tr>\n",
       "<tr>\n",
       "  <th>ma.L1.Recovered</th> <td>    0.5398</td> <td>    0.074</td> <td>    7.316</td> <td> 0.000</td> <td>    0.395</td> <td>    0.684</td>\n",
       "</tr>\n",
       "</table>\n",
       "<table class=\"simpletable\">\n",
       "<caption>Roots</caption>\n",
       "<tr>\n",
       "    <td></td>   <th>            Real</th>  <th>         Imaginary</th> <th>         Modulus</th>  <th>        Frequency</th>\n",
       "</tr>\n",
       "<tr>\n",
       "  <th>AR.1</th> <td>           1.0006</td> <td>          +0.0000j</td> <td>           1.0006</td> <td>           0.0000</td>\n",
       "</tr>\n",
       "<tr>\n",
       "  <th>MA.1</th> <td>          -1.8525</td> <td>          +0.0000j</td> <td>           1.8525</td> <td>           0.5000</td>\n",
       "</tr>\n",
       "</table>"
      ],
      "text/plain": [
       "<class 'statsmodels.iolib.summary.Summary'>\n",
       "\"\"\"\n",
       "                              ARMA Model Results                              \n",
       "==============================================================================\n",
       "Dep. Variable:              Recovered   No. Observations:                  106\n",
       "Model:                     ARMA(1, 1)   Log Likelihood                  76.524\n",
       "Method:                       css-mle   S.D. of innovations              0.113\n",
       "Date:                Thu, 07 May 2020   AIC                           -145.049\n",
       "Time:                        16:40:13   BIC                           -134.395\n",
       "Sample:                    01-22-2020   HQIC                          -140.731\n",
       "                         - 05-06-2020                                         \n",
       "===================================================================================\n",
       "                      coef    std err          z      P>|z|      [0.025      0.975]\n",
       "-----------------------------------------------------------------------------------\n",
       "const               8.7608      5.180      1.691      0.094      -1.393      18.914\n",
       "ar.L1.Recovered     0.9994      0.001   1289.849      0.000       0.998       1.001\n",
       "ma.L1.Recovered     0.5398      0.074      7.316      0.000       0.395       0.684\n",
       "                                    Roots                                    \n",
       "=============================================================================\n",
       "                  Real          Imaginary           Modulus         Frequency\n",
       "-----------------------------------------------------------------------------\n",
       "AR.1            1.0006           +0.0000j            1.0006            0.0000\n",
       "MA.1           -1.8525           +0.0000j            1.8525            0.5000\n",
       "-----------------------------------------------------------------------------\n",
       "\"\"\""
      ]
     },
     "execution_count": 34,
     "metadata": {},
     "output_type": "execute_result"
    }
   ],
   "source": [
    "arma_recovered.summary()"
   ]
  },
  {
   "cell_type": "code",
   "execution_count": 35,
   "metadata": {},
   "outputs": [
    {
     "name": "stderr",
     "output_type": "stream",
     "text": [
      "/anaconda3/lib/python3.7/site-packages/statsmodels/tsa/base/tsa_model.py:171: ValueWarning: No frequency information was provided, so inferred frequency D will be used.\n",
      "  % freq, ValueWarning)\n",
      "/anaconda3/lib/python3.7/site-packages/statsmodels/tsa/base/tsa_model.py:191: FutureWarning: Creating a DatetimeIndex by passing range endpoints is deprecated.  Use `pandas.date_range` instead.\n",
      "  start=index[0], end=index[-1], freq=freq)\n",
      "/anaconda3/lib/python3.7/site-packages/statsmodels/tsa/base/tsa_model.py:171: ValueWarning: No frequency information was provided, so inferred frequency D will be used.\n",
      "  % freq, ValueWarning)\n"
     ]
    },
    {
     "data": {
      "text/html": [
       "<div>\n",
       "<style scoped>\n",
       "    .dataframe tbody tr th:only-of-type {\n",
       "        vertical-align: middle;\n",
       "    }\n",
       "\n",
       "    .dataframe tbody tr th {\n",
       "        vertical-align: top;\n",
       "    }\n",
       "\n",
       "    .dataframe thead th {\n",
       "        text-align: right;\n",
       "    }\n",
       "</style>\n",
       "<table border=\"1\" class=\"dataframe\">\n",
       "  <thead>\n",
       "    <tr style=\"text-align: right;\">\n",
       "      <th></th>\n",
       "      <th>ARIMA Predicted</th>\n",
       "      <th>Actual</th>\n",
       "    </tr>\n",
       "  </thead>\n",
       "  <tbody>\n",
       "    <tr>\n",
       "      <th>2020-05-02</th>\n",
       "      <td>1.031385</td>\n",
       "      <td>243808.0</td>\n",
       "    </tr>\n",
       "    <tr>\n",
       "      <th>2020-05-03</th>\n",
       "      <td>1.030056</td>\n",
       "      <td>247470.0</td>\n",
       "    </tr>\n",
       "    <tr>\n",
       "      <th>2020-05-04</th>\n",
       "      <td>1.034416</td>\n",
       "      <td>251537.0</td>\n",
       "    </tr>\n",
       "    <tr>\n",
       "      <th>2020-05-05</th>\n",
       "      <td>1.029122</td>\n",
       "      <td>257239.0</td>\n",
       "    </tr>\n",
       "    <tr>\n",
       "      <th>2020-05-06</th>\n",
       "      <td>1.025668</td>\n",
       "      <td>263831.0</td>\n",
       "    </tr>\n",
       "  </tbody>\n",
       "</table>\n",
       "</div>"
      ],
      "text/plain": [
       "            ARIMA Predicted    Actual\n",
       "2020-05-02         1.031385  243808.0\n",
       "2020-05-03         1.030056  247470.0\n",
       "2020-05-04         1.034416  251537.0\n",
       "2020-05-05         1.029122  257239.0\n",
       "2020-05-06         1.025668  263831.0"
      ]
     },
     "execution_count": 35,
     "metadata": {},
     "output_type": "execute_result"
    }
   ],
   "source": [
    "# now let's do fit an arima model \n",
    "arima= ARIMA(log_deaths, order=(3,1,2)).fit() #random walk \n",
    "# make prediction\n",
    "arima_y_pred = arima.predict()\n",
    "# display table with predicted and actual values\n",
    "df = pd.DataFrame({'ARIMA Predicted': np.exp(arima_y_pred), 'Actual': np.exp(log_deaths)})\n",
    "df[-5:]"
   ]
  },
  {
   "cell_type": "code",
   "execution_count": 36,
   "metadata": {},
   "outputs": [
    {
     "name": "stderr",
     "output_type": "stream",
     "text": [
      "/anaconda3/lib/python3.7/site-packages/statsmodels/tsa/base/tsa_model.py:171: ValueWarning: No frequency information was provided, so inferred frequency D will be used.\n",
      "  % freq, ValueWarning)\n",
      "/anaconda3/lib/python3.7/site-packages/statsmodels/tsa/base/tsa_model.py:336: FutureWarning: Creating a DatetimeIndex by passing range endpoints is deprecated.  Use `pandas.date_range` instead.\n",
      "  freq=base_index.freq)\n"
     ]
    },
    {
     "data": {
      "text/plain": [
       "<matplotlib.legend.Legend at 0x1c264e4828>"
      ]
     },
     "execution_count": 36,
     "metadata": {},
     "output_type": "execute_result"
    },
    {
     "data": {
      "image/png": "[encoded data removed]",
      "text/plain": [
       "<Figure size 432x288 with 1 Axes>"
      ]
     },
     "metadata": {
      "needs_background": "light"
     },
     "output_type": "display_data"
    }
   ],
   "source": [
    "# forecast confirmed number of cases of covid-19\n",
    "arma_confirmed = ARMA(log_confirmed, order=(0,1,1)).fit()\n",
    "confirmed_forecast = arma_confirmed.predict(start='2020-01-22', end='2020-5-30')\n",
    "\n",
    "# plot the forecast against the actual number of confirmed cases so far\n",
    "np.exp(confirmed_forecast).plot.line(color='red', label='Forecast of confirmed COVID-19')\n",
    "covid_data['Confirmed'].plot(color='blue', label='Already confirmed cases')\n",
    "plt.title('COVID-19 Confirmed Forecast')\n",
    "\n",
    "plt.legend()"
   ]
  },
  {
   "cell_type": "code",
   "execution_count": 37,
   "metadata": {},
   "outputs": [
    {
     "data": {
      "text/plain": [
       "<matplotlib.legend.Legend at 0x1c2657cac8>"
      ]
     },
     "execution_count": 37,
     "metadata": {},
     "output_type": "execute_result"
    },
    {
     "data": {
      "image/png": "[encoded data removed]",
      "text/plain": [
       "<Figure size 432x288 with 1 Axes>"
      ]
     },
     "metadata": {
      "needs_background": "light"
     },
     "output_type": "display_data"
    }
   ],
   "source": [
    "# plot current mortality rate plotted against the forecast\n",
    "(covid_data['Deaths'] / covid_data['Confirmed']*100).plot.line(color='blue', label='Actual mortality rate' )\n",
    "np.exp((deaths_forecast/confirmed_forecast)).plot.line(color='red', label='Forecasted mortality')\n",
    "\n",
    "plt.legend()"
   ]
  },
  {
   "cell_type": "code",
   "execution_count": 38,
   "metadata": {},
   "outputs": [
    {
     "data": {
      "text/plain": [
       "2020-04-01     48533.127276\n",
       "2020-04-02     54542.307865\n",
       "2020-04-03     61314.156722\n",
       "2020-04-04     67083.532986\n",
       "2020-04-05     73355.192733\n",
       "2020-04-06     77375.043041\n",
       "2020-04-07     83583.797277\n",
       "2020-04-08     93526.294186\n",
       "2020-04-09     99000.396654\n",
       "2020-04-10    107257.782065\n",
       "2020-04-11    114152.587662\n",
       "2020-04-12    119042.335708\n",
       "2020-04-13    124422.096907\n",
       "2020-04-14    130100.079112\n",
       "2020-04-15    137994.147642\n",
       "2020-04-16    147385.754377\n",
       "2020-04-17    153781.257530\n",
       "2020-04-18    164011.670334\n",
       "2020-04-19    168182.173685\n",
       "2020-04-20    171099.744512\n",
       "2020-04-21    177065.617534\n",
       "2020-04-22    185763.185143\n",
       "2020-04-23    191998.610877\n",
       "2020-04-24    198784.911875\n",
       "2020-04-25    204717.699849\n",
       "2020-04-26    210750.825615\n",
       "2020-04-27    212319.448247\n",
       "2020-04-28    217552.409584\n",
       "2020-04-29    225438.901428\n",
       "2020-04-30    232716.162131\n",
       "2020-05-01    237365.801989\n",
       "2020-05-02    242234.754112\n",
       "2020-05-03    247337.963454\n",
       "2020-05-04    249685.404679\n",
       "2020-05-05    254077.569627\n",
       "2020-05-06    261147.511264\n",
       "2020-05-07    268473.740071\n",
       "2020-05-08    271428.332205\n",
       "2020-05-09    272945.105377\n",
       "2020-05-10    273254.845111\n",
       "2020-05-11    272564.387019\n",
       "2020-05-12    271055.199057\n",
       "2020-05-13    268883.888233\n",
       "2020-05-14    266183.848718\n",
       "2020-05-15    263067.502889\n",
       "2020-05-16    259628.769235\n",
       "2020-05-17    255945.525544\n",
       "2020-05-18    252081.931018\n",
       "2020-05-19    248090.535623\n",
       "2020-05-20    244014.147336\n",
       "2020-05-21    239887.454279\n",
       "2020-05-22    235738.414173\n",
       "2020-05-23    231589.431643\n",
       "2020-05-24    227458.347356\n",
       "2020-05-25    223359.263515\n",
       "2020-05-26    219303.229086\n",
       "2020-05-27    215298.806132\n",
       "2020-05-28    211352.536232\n",
       "2020-05-29    207469.323492\n",
       "2020-05-30    203652.748297\n",
       "Freq: D, dtype: float64"
      ]
     },
     "execution_count": 38,
     "metadata": {},
     "output_type": "execute_result"
    }
   ],
   "source": [
    "# last 60 forecasted dates\n",
    "np.exp(deaths_forecast)[-60:]"
   ]
  },
  {
   "cell_type": "code",
   "execution_count": 39,
   "metadata": {},
   "outputs": [
    {
     "name": "stdout",
     "output_type": "stream",
     "text": [
      "273255.0 covid-19 deaths predicted to be reported on 2020-05-10 00:00:00\n"
     ]
    }
   ],
   "source": [
    "# find the max number of predicted deaths and on which day. \n",
    "for k, v in deaths_forecast.items():\n",
    "    if np.exp(v) == np.exp(deaths_forecast).max():\n",
    "        print(np.exp(v).round(), 'covid-19 deaths predicted to be reported on', k)"
   ]
  },
  {
   "cell_type": "code",
   "execution_count": null,
   "metadata": {},
   "outputs": [],
   "source": []
  },
  {
   "cell_type": "code",
   "execution_count": null,
   "metadata": {},
   "outputs": [],
   "source": []
  },
  {
   "cell_type": "code",
   "execution_count": null,
   "metadata": {},
   "outputs": [],
   "source": []
  },
  {
   "cell_type": "code",
   "execution_count": null,
   "metadata": {},
   "outputs": [],
   "source": []
  },
  {
   "cell_type": "code",
   "execution_count": null,
   "metadata": {},
   "outputs": [],
   "source": []
  },
  {
   "cell_type": "code",
   "execution_count": null,
   "metadata": {},
   "outputs": [],
   "source": []
  },
  {
   "cell_type": "code",
   "execution_count": null,
   "metadata": {},
   "outputs": [],
   "source": []
  }
 ],
 "metadata": {
  "kernelspec": {
   "display_name": "Python 3",
   "language": "python",
   "name": "python3"
  },
  "language_info": {
   "codemirror_mode": {
    "name": "ipython",
    "version": 3
   },
   "file_extension": ".py",
   "mimetype": "text/x-python",
   "name": "python",
   "nbconvert_exporter": "python",
   "pygments_lexer": "ipython3",
   "version": "3.7.3"
  }
 },
 "nbformat": 4,
 "nbformat_minor": 2
}
