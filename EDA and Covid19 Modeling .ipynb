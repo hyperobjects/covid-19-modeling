{
 "cells": [
  {
   "cell_type": "markdown",
   "metadata": {},
   "source": [
    "# Exploratory Data Analysis, Linear Regression, and Time Series Modeling with COVID19 Worldwide Aggregated Data. \n",
    "\n",
    "https://towardsdatascience.com/a-beginners-guide-to-linear-regression-in-python-with-scikit-learn-83a8f7ae2b4f\n"
   ]
  },
  {
   "cell_type": "code",
   "execution_count": 1,
   "metadata": {},
   "outputs": [
    {
     "name": "stdout",
     "output_type": "stream",
     "text": [
      "--2020-04-04 10:39:28--  https://raw.githubusercontent.com/datasets/covid-19/master/data/worldwide-aggregated.csv\n",
      "Resolving raw.githubusercontent.com (raw.githubusercontent.com)... 151.101.208.133\n",
      "Connecting to raw.githubusercontent.com (raw.githubusercontent.com)|151.101.208.133|:443... connected.\n",
      "HTTP request sent, awaiting response... 200 OK\n",
      "Length: 3459 (3.4K) [text/plain]\n",
      "Saving to: ‘worldwide-aggregated.csv’\n",
      "\n",
      "worldwide-aggregate 100%[===================>]   3.38K  --.-KB/s    in 0s      \n",
      "\n",
      "2020-04-04 10:39:28 (21.0 MB/s) - ‘worldwide-aggregated.csv’ saved [3459/3459]\n",
      "\n"
     ]
    }
   ],
   "source": [
    "# first step get data\n",
    "!wget https://raw.githubusercontent.com/datasets/covid-19/master/data/worldwide-aggregated.csv"
   ]
  },
  {
   "cell_type": "code",
   "execution_count": 2,
   "metadata": {},
   "outputs": [],
   "source": [
    "import pandas as pd\n",
    "import numpy as np\n",
    "\n",
    "from sklearn import metrics\n",
    "from sklearn.model_selection import train_test_split\n",
    "from sklearn.linear_model import LinearRegression\n",
    "\n",
    "import seaborn as sns\n",
    "import matplotlib.pyplot as plt\n",
    "%matplotlib inline"
   ]
  },
  {
   "cell_type": "code",
   "execution_count": 3,
   "metadata": {},
   "outputs": [
    {
     "data": {
      "text/plain": [
       "(73, 5)"
      ]
     },
     "execution_count": 3,
     "metadata": {},
     "output_type": "execute_result"
    }
   ],
   "source": [
    "# open csv file \n",
    "covid_data = pd.read_csv('worldwide-aggregated.csv')\n",
    "# get shape of data\n",
    "covid_data.shape"
   ]
  },
  {
   "cell_type": "code",
   "execution_count": 4,
   "metadata": {},
   "outputs": [
    {
     "name": "stdout",
     "output_type": "stream",
     "text": [
      "<class 'pandas.core.frame.DataFrame'>\n",
      "RangeIndex: 73 entries, 0 to 72\n",
      "Data columns (total 5 columns):\n",
      "Date             73 non-null object\n",
      "Confirmed        73 non-null int64\n",
      "Recovered        73 non-null int64\n",
      "Deaths           73 non-null int64\n",
      "Increase rate    72 non-null float64\n",
      "dtypes: float64(1), int64(3), object(1)\n",
      "memory usage: 2.9+ KB\n"
     ]
    }
   ],
   "source": [
    "# get info about dataframe\n",
    "covid_data.info()"
   ]
  },
  {
   "cell_type": "code",
   "execution_count": 5,
   "metadata": {},
   "outputs": [
    {
     "data": {
      "text/html": [
       "<div>\n",
       "<style scoped>\n",
       "    .dataframe tbody tr th:only-of-type {\n",
       "        vertical-align: middle;\n",
       "    }\n",
       "\n",
       "    .dataframe tbody tr th {\n",
       "        vertical-align: top;\n",
       "    }\n",
       "\n",
       "    .dataframe thead th {\n",
       "        text-align: right;\n",
       "    }\n",
       "</style>\n",
       "<table border=\"1\" class=\"dataframe\">\n",
       "  <thead>\n",
       "    <tr style=\"text-align: right;\">\n",
       "      <th></th>\n",
       "      <th>Date</th>\n",
       "      <th>Confirmed</th>\n",
       "      <th>Recovered</th>\n",
       "      <th>Deaths</th>\n",
       "      <th>Increase rate</th>\n",
       "    </tr>\n",
       "  </thead>\n",
       "  <tbody>\n",
       "    <tr>\n",
       "      <th>0</th>\n",
       "      <td>2020-01-22</td>\n",
       "      <td>555</td>\n",
       "      <td>28</td>\n",
       "      <td>17</td>\n",
       "      <td>NaN</td>\n",
       "    </tr>\n",
       "    <tr>\n",
       "      <th>1</th>\n",
       "      <td>2020-01-23</td>\n",
       "      <td>654</td>\n",
       "      <td>30</td>\n",
       "      <td>18</td>\n",
       "      <td>17.837838</td>\n",
       "    </tr>\n",
       "    <tr>\n",
       "      <th>2</th>\n",
       "      <td>2020-01-24</td>\n",
       "      <td>941</td>\n",
       "      <td>36</td>\n",
       "      <td>26</td>\n",
       "      <td>43.883792</td>\n",
       "    </tr>\n",
       "    <tr>\n",
       "      <th>3</th>\n",
       "      <td>2020-01-25</td>\n",
       "      <td>1434</td>\n",
       "      <td>39</td>\n",
       "      <td>42</td>\n",
       "      <td>52.391073</td>\n",
       "    </tr>\n",
       "    <tr>\n",
       "      <th>4</th>\n",
       "      <td>2020-01-26</td>\n",
       "      <td>2118</td>\n",
       "      <td>52</td>\n",
       "      <td>56</td>\n",
       "      <td>47.698745</td>\n",
       "    </tr>\n",
       "  </tbody>\n",
       "</table>\n",
       "</div>"
      ],
      "text/plain": [
       "         Date  Confirmed  Recovered  Deaths  Increase rate\n",
       "0  2020-01-22        555         28      17            NaN\n",
       "1  2020-01-23        654         30      18      17.837838\n",
       "2  2020-01-24        941         36      26      43.883792\n",
       "3  2020-01-25       1434         39      42      52.391073\n",
       "4  2020-01-26       2118         52      56      47.698745"
      ]
     },
     "execution_count": 5,
     "metadata": {},
     "output_type": "execute_result"
    }
   ],
   "source": [
    "# check out the head of the data\n",
    "covid_data.head()"
   ]
  },
  {
   "cell_type": "code",
   "execution_count": 6,
   "metadata": {},
   "outputs": [
    {
     "data": {
      "text/html": [
       "<div>\n",
       "<style scoped>\n",
       "    .dataframe tbody tr th:only-of-type {\n",
       "        vertical-align: middle;\n",
       "    }\n",
       "\n",
       "    .dataframe tbody tr th {\n",
       "        vertical-align: top;\n",
       "    }\n",
       "\n",
       "    .dataframe thead th {\n",
       "        text-align: right;\n",
       "    }\n",
       "</style>\n",
       "<table border=\"1\" class=\"dataframe\">\n",
       "  <thead>\n",
       "    <tr style=\"text-align: right;\">\n",
       "      <th></th>\n",
       "      <th>Date</th>\n",
       "      <th>Confirmed</th>\n",
       "      <th>Recovered</th>\n",
       "      <th>Deaths</th>\n",
       "      <th>Increase rate</th>\n",
       "    </tr>\n",
       "  </thead>\n",
       "  <tbody>\n",
       "    <tr>\n",
       "      <th>68</th>\n",
       "      <td>2020-03-30</td>\n",
       "      <td>782365</td>\n",
       "      <td>164566</td>\n",
       "      <td>37582</td>\n",
       "      <td>8.644151</td>\n",
       "    </tr>\n",
       "    <tr>\n",
       "      <th>69</th>\n",
       "      <td>2020-03-31</td>\n",
       "      <td>857487</td>\n",
       "      <td>178034</td>\n",
       "      <td>42107</td>\n",
       "      <td>9.601912</td>\n",
       "    </tr>\n",
       "    <tr>\n",
       "      <th>70</th>\n",
       "      <td>2020-04-01</td>\n",
       "      <td>932605</td>\n",
       "      <td>193177</td>\n",
       "      <td>46809</td>\n",
       "      <td>8.760249</td>\n",
       "    </tr>\n",
       "    <tr>\n",
       "      <th>71</th>\n",
       "      <td>2020-04-02</td>\n",
       "      <td>1013157</td>\n",
       "      <td>210263</td>\n",
       "      <td>52983</td>\n",
       "      <td>8.637312</td>\n",
       "    </tr>\n",
       "    <tr>\n",
       "      <th>72</th>\n",
       "      <td>2020-04-03</td>\n",
       "      <td>1095917</td>\n",
       "      <td>225796</td>\n",
       "      <td>58787</td>\n",
       "      <td>8.168527</td>\n",
       "    </tr>\n",
       "  </tbody>\n",
       "</table>\n",
       "</div>"
      ],
      "text/plain": [
       "          Date  Confirmed  Recovered  Deaths  Increase rate\n",
       "68  2020-03-30     782365     164566   37582       8.644151\n",
       "69  2020-03-31     857487     178034   42107       9.601912\n",
       "70  2020-04-01     932605     193177   46809       8.760249\n",
       "71  2020-04-02    1013157     210263   52983       8.637312\n",
       "72  2020-04-03    1095917     225796   58787       8.168527"
      ]
     },
     "execution_count": 6,
     "metadata": {},
     "output_type": "execute_result"
    }
   ],
   "source": [
    "# check out the tail\n",
    "covid_data.tail()"
   ]
  },
  {
   "cell_type": "code",
   "execution_count": 7,
   "metadata": {},
   "outputs": [
    {
     "data": {
      "text/html": [
       "<div>\n",
       "<style scoped>\n",
       "    .dataframe tbody tr th:only-of-type {\n",
       "        vertical-align: middle;\n",
       "    }\n",
       "\n",
       "    .dataframe tbody tr th {\n",
       "        vertical-align: top;\n",
       "    }\n",
       "\n",
       "    .dataframe thead th {\n",
       "        text-align: right;\n",
       "    }\n",
       "</style>\n",
       "<table border=\"1\" class=\"dataframe\">\n",
       "  <thead>\n",
       "    <tr style=\"text-align: right;\">\n",
       "      <th></th>\n",
       "      <th>Date</th>\n",
       "      <th>Confirmed</th>\n",
       "      <th>Recovered</th>\n",
       "      <th>Deaths</th>\n",
       "      <th>Increase rate</th>\n",
       "    </tr>\n",
       "  </thead>\n",
       "  <tbody>\n",
       "    <tr>\n",
       "      <th>0</th>\n",
       "      <td>2020-01-22</td>\n",
       "      <td>555</td>\n",
       "      <td>28</td>\n",
       "      <td>17</td>\n",
       "      <td>0.000000</td>\n",
       "    </tr>\n",
       "    <tr>\n",
       "      <th>1</th>\n",
       "      <td>2020-01-23</td>\n",
       "      <td>654</td>\n",
       "      <td>30</td>\n",
       "      <td>18</td>\n",
       "      <td>17.837838</td>\n",
       "    </tr>\n",
       "    <tr>\n",
       "      <th>2</th>\n",
       "      <td>2020-01-24</td>\n",
       "      <td>941</td>\n",
       "      <td>36</td>\n",
       "      <td>26</td>\n",
       "      <td>43.883792</td>\n",
       "    </tr>\n",
       "    <tr>\n",
       "      <th>3</th>\n",
       "      <td>2020-01-25</td>\n",
       "      <td>1434</td>\n",
       "      <td>39</td>\n",
       "      <td>42</td>\n",
       "      <td>52.391073</td>\n",
       "    </tr>\n",
       "    <tr>\n",
       "      <th>4</th>\n",
       "      <td>2020-01-26</td>\n",
       "      <td>2118</td>\n",
       "      <td>52</td>\n",
       "      <td>56</td>\n",
       "      <td>47.698745</td>\n",
       "    </tr>\n",
       "  </tbody>\n",
       "</table>\n",
       "</div>"
      ],
      "text/plain": [
       "         Date  Confirmed  Recovered  Deaths  Increase rate\n",
       "0  2020-01-22        555         28      17       0.000000\n",
       "1  2020-01-23        654         30      18      17.837838\n",
       "2  2020-01-24        941         36      26      43.883792\n",
       "3  2020-01-25       1434         39      42      52.391073\n",
       "4  2020-01-26       2118         52      56      47.698745"
      ]
     },
     "execution_count": 7,
     "metadata": {},
     "output_type": "execute_result"
    }
   ],
   "source": [
    "# fill in missing values\n",
    "covid_data = covid_data.fillna(0)\n",
    "covid_data[:5]"
   ]
  },
  {
   "cell_type": "code",
   "execution_count": 8,
   "metadata": {},
   "outputs": [
    {
     "data": {
      "text/html": [
       "<div>\n",
       "<style scoped>\n",
       "    .dataframe tbody tr th:only-of-type {\n",
       "        vertical-align: middle;\n",
       "    }\n",
       "\n",
       "    .dataframe tbody tr th {\n",
       "        vertical-align: top;\n",
       "    }\n",
       "\n",
       "    .dataframe thead th {\n",
       "        text-align: right;\n",
       "    }\n",
       "</style>\n",
       "<table border=\"1\" class=\"dataframe\">\n",
       "  <thead>\n",
       "    <tr style=\"text-align: right;\">\n",
       "      <th></th>\n",
       "      <th>Confirmed</th>\n",
       "      <th>Recovered</th>\n",
       "      <th>Deaths</th>\n",
       "      <th>Increase rate</th>\n",
       "    </tr>\n",
       "  </thead>\n",
       "  <tbody>\n",
       "    <tr>\n",
       "      <th>count</th>\n",
       "      <td>7.300000e+01</td>\n",
       "      <td>73.000000</td>\n",
       "      <td>73.000000</td>\n",
       "      <td>73.000000</td>\n",
       "    </tr>\n",
       "    <tr>\n",
       "      <th>mean</th>\n",
       "      <td>1.869322e+05</td>\n",
       "      <td>50917.301370</td>\n",
       "      <td>8117.479452</td>\n",
       "      <td>11.749869</td>\n",
       "    </tr>\n",
       "    <tr>\n",
       "      <th>std</th>\n",
       "      <td>2.581289e+05</td>\n",
       "      <td>56122.424872</td>\n",
       "      <td>13159.911690</td>\n",
       "      <td>14.818874</td>\n",
       "    </tr>\n",
       "    <tr>\n",
       "      <th>min</th>\n",
       "      <td>5.550000e+02</td>\n",
       "      <td>28.000000</td>\n",
       "      <td>17.000000</td>\n",
       "      <td>0.000000</td>\n",
       "    </tr>\n",
       "    <tr>\n",
       "      <th>25%</th>\n",
       "      <td>4.015000e+04</td>\n",
       "      <td>3244.000000</td>\n",
       "      <td>906.000000</td>\n",
       "      <td>2.806015</td>\n",
       "    </tr>\n",
       "    <tr>\n",
       "      <th>50%</th>\n",
       "      <td>8.274600e+04</td>\n",
       "      <td>33277.000000</td>\n",
       "      <td>2814.000000</td>\n",
       "      <td>8.432166</td>\n",
       "    </tr>\n",
       "    <tr>\n",
       "      <th>75%</th>\n",
       "      <td>1.815740e+05</td>\n",
       "      <td>78088.000000</td>\n",
       "      <td>7126.000000</td>\n",
       "      <td>12.179381</td>\n",
       "    </tr>\n",
       "    <tr>\n",
       "      <th>max</th>\n",
       "      <td>1.095917e+06</td>\n",
       "      <td>225796.000000</td>\n",
       "      <td>58787.000000</td>\n",
       "      <td>90.570550</td>\n",
       "    </tr>\n",
       "  </tbody>\n",
       "</table>\n",
       "</div>"
      ],
      "text/plain": [
       "          Confirmed      Recovered        Deaths  Increase rate\n",
       "count  7.300000e+01      73.000000     73.000000      73.000000\n",
       "mean   1.869322e+05   50917.301370   8117.479452      11.749869\n",
       "std    2.581289e+05   56122.424872  13159.911690      14.818874\n",
       "min    5.550000e+02      28.000000     17.000000       0.000000\n",
       "25%    4.015000e+04    3244.000000    906.000000       2.806015\n",
       "50%    8.274600e+04   33277.000000   2814.000000       8.432166\n",
       "75%    1.815740e+05   78088.000000   7126.000000      12.179381\n",
       "max    1.095917e+06  225796.000000  58787.000000      90.570550"
      ]
     },
     "execution_count": 8,
     "metadata": {},
     "output_type": "execute_result"
    }
   ],
   "source": [
    "# get descriptive stats on the data\n",
    "covid_data.describe()"
   ]
  },
  {
   "cell_type": "code",
   "execution_count": 9,
   "metadata": {},
   "outputs": [],
   "source": [
    "# set date to index\n",
    "covid_data['Date'] = pd.to_datetime(covid_data['Date'])\n",
    "covid_data = covid_data.set_index('Date')"
   ]
  },
  {
   "cell_type": "code",
   "execution_count": 10,
   "metadata": {},
   "outputs": [
    {
     "data": {
      "text/plain": [
       "Text(0, 0.5, 'Deaths')"
      ]
     },
     "execution_count": 10,
     "metadata": {},
     "output_type": "execute_result"
    },
    {
     "data": {
      "image/png": "[encoded data removed]",
      "text/plain": [
       "<Figure size 432x288 with 1 Axes>"
      ]
     },
     "metadata": {
      "needs_background": "light"
     },
     "output_type": "display_data"
    }
   ],
   "source": [
    "# real quick, let's do a line plot of deaths over time\n",
    "covid_data['Deaths'].plot.line()\n",
    "plt.title('COVID-19 deaths to date')\n",
    "plt.ylabel('Deaths')"
   ]
  },
  {
   "cell_type": "code",
   "execution_count": 11,
   "metadata": {},
   "outputs": [
    {
     "data": {
      "text/plain": [
       "Text(0, 0.5, '% of recovered patients')"
      ]
     },
     "execution_count": 11,
     "metadata": {},
     "output_type": "execute_result"
    },
    {
     "data": {
      "image/png": "[encoded data removed]",
      "text/plain": [
       "<Figure size 432x288 with 1 Axes>"
      ]
     },
     "metadata": {
      "needs_background": "light"
     },
     "output_type": "display_data"
    }
   ],
   "source": [
    "# calculate recovery Rate\n",
    "(covid_data['Recovered'] / covid_data['Confirmed']).plot.line()\n",
    "plt.title(\"COVID19 recovery rate\")\n",
    "plt.ylabel('% of recovered patients')"
   ]
  },
  {
   "cell_type": "code",
   "execution_count": 12,
   "metadata": {},
   "outputs": [
    {
     "data": {
      "text/plain": [
       "Text(0.5, 1.0, 'Aggregated worldwide COVID-19 mortality rate')"
      ]
     },
     "execution_count": 12,
     "metadata": {},
     "output_type": "execute_result"
    },
    {
     "data": {
      "image/png": "[encoded data removed]",
      "text/plain": [
       "<Figure size 432x288 with 1 Axes>"
      ]
     },
     "metadata": {
      "needs_background": "light"
     },
     "output_type": "display_data"
    }
   ],
   "source": [
    "# calculate mortality rate\n",
    "(covid_data['Deaths'] / covid_data['Confirmed']).plot.line()\n",
    "plt.title(\"Aggregated worldwide COVID-19 mortality rate\")"
   ]
  },
  {
   "cell_type": "code",
   "execution_count": 13,
   "metadata": {},
   "outputs": [
    {
     "data": {
      "text/plain": [
       "Text(0.5, 1.0, 'Increase in COVID-19 cases worldwide')"
      ]
     },
     "execution_count": 13,
     "metadata": {},
     "output_type": "execute_result"
    },
    {
     "data": {
      "image/png": "[encoded data removed]",
      "text/plain": [
       "<Figure size 432x288 with 1 Axes>"
      ]
     },
     "metadata": {
      "needs_background": "light"
     },
     "output_type": "display_data"
    }
   ],
   "source": [
    "# plot increase rate\n",
    "covid_data['Increase rate'].plot.line()\n",
    "plt.title(\"Increase in COVID-19 cases worldwide\")"
   ]
  },
  {
   "cell_type": "code",
   "execution_count": 14,
   "metadata": {},
   "outputs": [
    {
     "data": {
      "text/plain": [
       "<seaborn.axisgrid.PairGrid at 0x1a218baef0>"
      ]
     },
     "execution_count": 14,
     "metadata": {},
     "output_type": "execute_result"
    },
    {
     "data": {
      "image/png": "[encoded data removed]",
      "text/plain": [
       "<Figure size 720x720 with 20 Axes>"
      ]
     },
     "metadata": {
      "needs_background": "light"
     },
     "output_type": "display_data"
    }
   ],
   "source": [
    "# Use seaborn pairplot to visualize correlations in covid-19 dataset\n",
    "sns.pairplot(covid_data)"
   ]
  },
  {
   "cell_type": "code",
   "execution_count": 15,
   "metadata": {},
   "outputs": [
    {
     "data": {
      "text/html": [
       "<div>\n",
       "<style scoped>\n",
       "    .dataframe tbody tr th:only-of-type {\n",
       "        vertical-align: middle;\n",
       "    }\n",
       "\n",
       "    .dataframe tbody tr th {\n",
       "        vertical-align: top;\n",
       "    }\n",
       "\n",
       "    .dataframe thead th {\n",
       "        text-align: right;\n",
       "    }\n",
       "</style>\n",
       "<table border=\"1\" class=\"dataframe\">\n",
       "  <thead>\n",
       "    <tr style=\"text-align: right;\">\n",
       "      <th></th>\n",
       "      <th>Confirmed</th>\n",
       "      <th>Recovered</th>\n",
       "      <th>Deaths</th>\n",
       "      <th>Increase rate</th>\n",
       "    </tr>\n",
       "  </thead>\n",
       "  <tbody>\n",
       "    <tr>\n",
       "      <th>Confirmed</th>\n",
       "      <td>1.000000</td>\n",
       "      <td>0.953191</td>\n",
       "      <td>0.997021</td>\n",
       "      <td>-0.141791</td>\n",
       "    </tr>\n",
       "    <tr>\n",
       "      <th>Recovered</th>\n",
       "      <td>0.953191</td>\n",
       "      <td>1.000000</td>\n",
       "      <td>0.939425</td>\n",
       "      <td>-0.225956</td>\n",
       "    </tr>\n",
       "    <tr>\n",
       "      <th>Deaths</th>\n",
       "      <td>0.997021</td>\n",
       "      <td>0.939425</td>\n",
       "      <td>1.000000</td>\n",
       "      <td>-0.113896</td>\n",
       "    </tr>\n",
       "    <tr>\n",
       "      <th>Increase rate</th>\n",
       "      <td>-0.141791</td>\n",
       "      <td>-0.225956</td>\n",
       "      <td>-0.113896</td>\n",
       "      <td>1.000000</td>\n",
       "    </tr>\n",
       "  </tbody>\n",
       "</table>\n",
       "</div>"
      ],
      "text/plain": [
       "               Confirmed  Recovered    Deaths  Increase rate\n",
       "Confirmed       1.000000   0.953191  0.997021      -0.141791\n",
       "Recovered       0.953191   1.000000  0.939425      -0.225956\n",
       "Deaths          0.997021   0.939425  1.000000      -0.113896\n",
       "Increase rate  -0.141791  -0.225956 -0.113896       1.000000"
      ]
     },
     "execution_count": 15,
     "metadata": {},
     "output_type": "execute_result"
    }
   ],
   "source": [
    "# just the numbers on how the variables correlate\n",
    "covid_data.corr()"
   ]
  },
  {
   "cell_type": "code",
   "execution_count": 16,
   "metadata": {},
   "outputs": [],
   "source": [
    "# use highest corr var as X \n",
    "X = covid_data['Confirmed'].values.reshape(-1,1)\n",
    "y = covid_data['Deaths'].values.reshape(-1,1)"
   ]
  },
  {
   "cell_type": "code",
   "execution_count": 17,
   "metadata": {},
   "outputs": [],
   "source": [
    "# split the data 80% in train and 20% in test set\n",
    "X_train, X_test, y_train, y_test = train_test_split(X, y, test_size=0.2,random_state=1)"
   ]
  },
  {
   "cell_type": "code",
   "execution_count": 18,
   "metadata": {},
   "outputs": [
    {
     "data": {
      "text/plain": [
       "((58, 1), (58, 1))"
      ]
     },
     "execution_count": 18,
     "metadata": {},
     "output_type": "execute_result"
    }
   ],
   "source": [
    "# check to make sure X and y have the same shape\n",
    "X_train.shape, y_train.shape"
   ]
  },
  {
   "cell_type": "code",
   "execution_count": 19,
   "metadata": {},
   "outputs": [],
   "source": [
    "# fit regression model to training data\n",
    "lr = LinearRegression().fit(X_train, y_train)"
   ]
  },
  {
   "cell_type": "code",
   "execution_count": 20,
   "metadata": {},
   "outputs": [
    {
     "name": "stdout",
     "output_type": "stream",
     "text": [
      "intercept: [-1364.43905683] coef: [[0.05094851]]\n"
     ]
    }
   ],
   "source": [
    "# display intercept and coef\n",
    "print('intercept:', lr.intercept_, 'coef:', lr.coef_)"
   ]
  },
  {
   "cell_type": "code",
   "execution_count": 21,
   "metadata": {},
   "outputs": [],
   "source": [
    "# now predict values of regression set \n",
    "y_pred = lr.predict(X_test)"
   ]
  },
  {
   "cell_type": "code",
   "execution_count": 22,
   "metadata": {},
   "outputs": [
    {
     "data": {
      "text/html": [
       "<div>\n",
       "<style scoped>\n",
       "    .dataframe tbody tr th:only-of-type {\n",
       "        vertical-align: middle;\n",
       "    }\n",
       "\n",
       "    .dataframe tbody tr th {\n",
       "        vertical-align: top;\n",
       "    }\n",
       "\n",
       "    .dataframe thead th {\n",
       "        text-align: right;\n",
       "    }\n",
       "</style>\n",
       "<table border=\"1\" class=\"dataframe\">\n",
       "  <thead>\n",
       "    <tr style=\"text-align: right;\">\n",
       "      <th></th>\n",
       "      <th>Actual # of Deaths</th>\n",
       "      <th>Predicted # of Deaths</th>\n",
       "    </tr>\n",
       "  </thead>\n",
       "  <tbody>\n",
       "    <tr>\n",
       "      <th>0</th>\n",
       "      <td>1013</td>\n",
       "      <td>814.221340</td>\n",
       "    </tr>\n",
       "    <tr>\n",
       "      <th>1</th>\n",
       "      <td>7905</td>\n",
       "      <td>8677.615139</td>\n",
       "    </tr>\n",
       "    <tr>\n",
       "      <th>2</th>\n",
       "      <td>259</td>\n",
       "      <td>-751.120834</td>\n",
       "    </tr>\n",
       "    <tr>\n",
       "      <th>3</th>\n",
       "      <td>42107</td>\n",
       "      <td>42323.250190</td>\n",
       "    </tr>\n",
       "    <tr>\n",
       "      <th>4</th>\n",
       "      <td>7126</td>\n",
       "      <td>7886.486598</td>\n",
       "    </tr>\n",
       "    <tr>\n",
       "      <th>5</th>\n",
       "      <td>1868</td>\n",
       "      <td>2367.947252</td>\n",
       "    </tr>\n",
       "    <tr>\n",
       "      <th>6</th>\n",
       "      <td>3085</td>\n",
       "      <td>3236.517535</td>\n",
       "    </tr>\n",
       "    <tr>\n",
       "      <th>7</th>\n",
       "      <td>2629</td>\n",
       "      <td>2689.075742</td>\n",
       "    </tr>\n",
       "    <tr>\n",
       "      <th>8</th>\n",
       "      <td>2708</td>\n",
       "      <td>2732.127237</td>\n",
       "    </tr>\n",
       "    <tr>\n",
       "      <th>9</th>\n",
       "      <td>14651</td>\n",
       "      <td>15802.815904</td>\n",
       "    </tr>\n",
       "    <tr>\n",
       "      <th>10</th>\n",
       "      <td>3460</td>\n",
       "      <td>3822.170715</td>\n",
       "    </tr>\n",
       "    <tr>\n",
       "      <th>11</th>\n",
       "      <td>3988</td>\n",
       "      <td>4422.802757</td>\n",
       "    </tr>\n",
       "    <tr>\n",
       "      <th>12</th>\n",
       "      <td>26</td>\n",
       "      <td>-1316.496504</td>\n",
       "    </tr>\n",
       "    <tr>\n",
       "      <th>13</th>\n",
       "      <td>6440</td>\n",
       "      <td>7167.093567</td>\n",
       "    </tr>\n",
       "    <tr>\n",
       "      <th>14</th>\n",
       "      <td>2007</td>\n",
       "      <td>2463.628563</td>\n",
       "    </tr>\n",
       "  </tbody>\n",
       "</table>\n",
       "</div>"
      ],
      "text/plain": [
       "    Actual # of Deaths  Predicted # of Deaths\n",
       "0                 1013             814.221340\n",
       "1                 7905            8677.615139\n",
       "2                  259            -751.120834\n",
       "3                42107           42323.250190\n",
       "4                 7126            7886.486598\n",
       "5                 1868            2367.947252\n",
       "6                 3085            3236.517535\n",
       "7                 2629            2689.075742\n",
       "8                 2708            2732.127237\n",
       "9                14651           15802.815904\n",
       "10                3460            3822.170715\n",
       "11                3988            4422.802757\n",
       "12                  26           -1316.496504\n",
       "13                6440            7167.093567\n",
       "14                2007            2463.628563"
      ]
     },
     "execution_count": 22,
     "metadata": {},
     "output_type": "execute_result"
    }
   ],
   "source": [
    "# create and display a dataframe with actual and predicted numbers of deaths\n",
    "df = pd.DataFrame({'Actual # of Deaths': y_test.flatten(), 'Predicted # of Deaths': y_pred.flatten()})\n",
    "df"
   ]
  },
  {
   "cell_type": "code",
   "execution_count": 23,
   "metadata": {},
   "outputs": [
    {
     "name": "stdout",
     "output_type": "stream",
     "text": [
      "Mean Absolute Error: 544.5951464595004\n",
      "Mean Squared Error: 449690.9172949512\n",
      "Root Mean Squared Error: 670.5899770313833\n"
     ]
    }
   ],
   "source": [
    "# now let's look at the error in this model\n",
    "print('Mean Absolute Error:', metrics.mean_absolute_error(y_test, y_pred))  \n",
    "print('Mean Squared Error:', metrics.mean_squared_error(y_test, y_pred))  \n",
    "print('Root Mean Squared Error:', np.sqrt(metrics.mean_squared_error(y_test, y_pred)))"
   ]
  },
  {
   "cell_type": "code",
   "execution_count": 24,
   "metadata": {},
   "outputs": [
    {
     "data": {
      "image/png": "[encoded data removed]",
      "text/plain": [
       "<Figure size 432x288 with 1 Axes>"
      ]
     },
     "metadata": {
      "needs_background": "light"
     },
     "output_type": "display_data"
    }
   ],
   "source": [
    "# linear regression line plot with test data\n",
    "plt.scatter(X_test, y_test, color='black')\n",
    "plt.scatter(X_test, y_pred,  color='red')\n",
    "plt.plot(X_test, y_pred,  color='teal',linewidth=2)\n",
    "\n",
    "plt.title('Linear Regression for deaths from COVID-19')  \n",
    "plt.xlabel('Confirmed Cases')  \n",
    "plt.ylabel('Deaths')\n",
    "\n",
    "plt.show()"
   ]
  },
  {
   "cell_type": "code",
   "execution_count": 25,
   "metadata": {},
   "outputs": [
    {
     "name": "stdout",
     "output_type": "stream",
     "text": [
      "Model accuracy score: 0.9956358982739075\n"
     ]
    }
   ],
   "source": [
    "# Use score to get accuracy of model\n",
    "score = lr.score(X_test, y_test)\n",
    "print('Model accuracy score:', score)"
   ]
  },
  {
   "cell_type": "code",
   "execution_count": 26,
   "metadata": {},
   "outputs": [
    {
     "data": {
      "image/png": "[encoded data removed]",
      "text/plain": [
       "<Figure size 432x288 with 1 Axes>"
      ]
     },
     "metadata": {
      "needs_background": "light"
     },
     "output_type": "display_data"
    },
    {
     "name": "stdout",
     "output_type": "stream",
     "text": [
      "intercept: [-2913.11967823] coef: [[0.22390654]]\n",
      "Mean Absolute Error: 4189.1902160222335\n",
      "Mean Squared Error: 23550258.421418212\n",
      "Root Mean Squared Error: 4852.860849171158\n",
      "Model accuracy score: 0.7714525255589623\n"
     ]
    }
   ],
   "source": [
    "# Now let's redraw the line for the second highest correlated var, Recovered\n",
    "X = covid_data['Recovered'].values.reshape(-1,1)\n",
    "y = covid_data['Deaths'].values.reshape(-1,1)\n",
    "\n",
    "# split data\n",
    "X_train, X_test, y_train, y_test = train_test_split(X, y, test_size=0.2,random_state=1)\n",
    "\n",
    "#from sklearn.linear_model import LogisticRegression\n",
    "# fit regression model to training data\n",
    "lr = LinearRegression().fit(X_train, y_train)\n",
    "\n",
    "# now predict values of regression set \n",
    "y_pred = lr.predict(X_test)\n",
    "\n",
    "# Display dataframe of actual and predicted # of deaths\n",
    "df = pd.DataFrame({'Actual # of Deaths': y_test.flatten(), 'Predicted # of Deaths': y_pred.flatten()})\n",
    "df\n",
    "\n",
    "# linear regression line plot with test data\n",
    "plt.scatter(X_test, y_test)\n",
    "plt.scatter(X_test, y_pred, color='gray')\n",
    "plt.plot(X_test, y_pred, color='red',linewidth=2)\n",
    "plt.title('Recovered Cases and Deaths from COVID-19')  \n",
    "plt.xlabel('Recovered')  \n",
    "plt.ylabel('Deaths')  \n",
    "\n",
    "plt.show()\n",
    "\n",
    "# display intercept and coef\n",
    "print('intercept:', lr.intercept_, 'coef:', lr.coef_)\n",
    "#print()\n",
    "\n",
    "# display error \n",
    "print('Mean Absolute Error:', metrics.mean_absolute_error(y_test, y_pred))  \n",
    "print('Mean Squared Error:', metrics.mean_squared_error(y_test, y_pred))  \n",
    "print('Root Mean Squared Error:', np.sqrt(metrics.mean_squared_error(y_test, y_pred)))\n",
    "\n",
    "# Use score to get accuracy of model\n",
    "score = lr.score(X_test, y_test)\n",
    "print('Model accuracy score:', score)"
   ]
  },
  {
   "cell_type": "code",
   "execution_count": 27,
   "metadata": {},
   "outputs": [
    {
     "data": {
      "text/plain": [
       "Index(['Confirmed', 'Recovered', 'Deaths', 'Increase rate'], dtype='object')"
      ]
     },
     "execution_count": 27,
     "metadata": {},
     "output_type": "execute_result"
    }
   ],
   "source": [
    "# check column titles\n",
    "covid_data.columns"
   ]
  },
  {
   "cell_type": "code",
   "execution_count": 29,
   "metadata": {},
   "outputs": [],
   "source": [
    "# Let's try to use the ARIMA and ARMA models\n",
    "from statsmodels.tsa.arima_model import ARIMA\n",
    "from statsmodels.tsa.arima_model import ARMA"
   ]
  },
  {
   "cell_type": "code",
   "execution_count": 45,
   "metadata": {},
   "outputs": [
    {
     "data": {
      "text/plain": [
       "Date\n",
       "2020-01-22    17.0\n",
       "2020-01-23    18.0\n",
       "2020-01-24    26.0\n",
       "2020-01-25    42.0\n",
       "2020-01-26    56.0\n",
       "Name: Deaths, dtype: float64"
      ]
     },
     "execution_count": 45,
     "metadata": {},
     "output_type": "execute_result"
    }
   ],
   "source": [
    "# a different way to set date to index\n",
    "data = pd.read_csv('worldwide-aggregated.csv', index_col=\"Date\")\n",
    "\n",
    "# fill empty obs with zero\n",
    "data = data.fillna(0)\n",
    "\n",
    "# create a log of y\n",
    "log_deaths = np.log(data['Deaths'])\n",
    "log_recovered = np.log(data['Recovered'])\n",
    "log_confirmed = np.log(covid_data['Confirmed'])\n",
    "\n",
    "np.exp(log_deaths).head()"
   ]
  },
  {
   "cell_type": "code",
   "execution_count": 31,
   "metadata": {},
   "outputs": [
    {
     "name": "stderr",
     "output_type": "stream",
     "text": [
      "/anaconda3/lib/python3.7/site-packages/statsmodels/tsa/base/tsa_model.py:171: ValueWarning: No frequency information was provided, so inferred frequency D will be used.\n",
      "  % freq, ValueWarning)\n",
      "/anaconda3/lib/python3.7/site-packages/statsmodels/tsa/base/tsa_model.py:191: FutureWarning: Creating a DatetimeIndex by passing range endpoints is deprecated.  Use `pandas.date_range` instead.\n",
      "  start=index[0], end=index[-1], freq=freq)\n",
      "/anaconda3/lib/python3.7/site-packages/statsmodels/base/model.py:508: ConvergenceWarning: Maximum Likelihood optimization failed to converge. Check mle_retvals\n",
      "  \"Check mle_retvals\", ConvergenceWarning)\n"
     ]
    },
    {
     "data": {
      "text/html": [
       "<div>\n",
       "<style scoped>\n",
       "    .dataframe tbody tr th:only-of-type {\n",
       "        vertical-align: middle;\n",
       "    }\n",
       "\n",
       "    .dataframe tbody tr th {\n",
       "        vertical-align: top;\n",
       "    }\n",
       "\n",
       "    .dataframe thead th {\n",
       "        text-align: right;\n",
       "    }\n",
       "</style>\n",
       "<table border=\"1\" class=\"dataframe\">\n",
       "  <thead>\n",
       "    <tr style=\"text-align: right;\">\n",
       "      <th></th>\n",
       "      <th>Predicted</th>\n",
       "      <th>Actual</th>\n",
       "    </tr>\n",
       "  </thead>\n",
       "  <tbody>\n",
       "    <tr>\n",
       "      <th>2020-03-30</th>\n",
       "      <td>37593.436641</td>\n",
       "      <td>37582.0</td>\n",
       "    </tr>\n",
       "    <tr>\n",
       "      <th>2020-03-31</th>\n",
       "      <td>41468.531603</td>\n",
       "      <td>42107.0</td>\n",
       "    </tr>\n",
       "    <tr>\n",
       "      <th>2020-04-01</th>\n",
       "      <td>46474.069707</td>\n",
       "      <td>46809.0</td>\n",
       "    </tr>\n",
       "    <tr>\n",
       "      <th>2020-04-02</th>\n",
       "      <td>51552.513117</td>\n",
       "      <td>52983.0</td>\n",
       "    </tr>\n",
       "    <tr>\n",
       "      <th>2020-04-03</th>\n",
       "      <td>58568.531582</td>\n",
       "      <td>58787.0</td>\n",
       "    </tr>\n",
       "  </tbody>\n",
       "</table>\n",
       "</div>"
      ],
      "text/plain": [
       "               Predicted   Actual\n",
       "2020-03-30  37593.436641  37582.0\n",
       "2020-03-31  41468.531603  42107.0\n",
       "2020-04-01  46474.069707  46809.0\n",
       "2020-04-02  51552.513117  52983.0\n",
       "2020-04-03  58568.531582  58787.0"
      ]
     },
     "execution_count": 31,
     "metadata": {},
     "output_type": "execute_result"
    }
   ],
   "source": [
    "# fit model\n",
    "arma = ARMA(log_deaths, order=(2, 1, 2)).fit()\n",
    "# make prediction\n",
    "arma_y_pred = arma.predict()\n",
    "# make dataframe with predicted and actual values\n",
    "df = pd.DataFrame({'Predicted': np.exp(arma_y_pred), 'Actual': np.exp(log_deaths)})\n",
    "# display last five\n",
    "df[-5:]"
   ]
  },
  {
   "cell_type": "code",
   "execution_count": 32,
   "metadata": {},
   "outputs": [
    {
     "data": {
      "text/html": [
       "<table class=\"simpletable\">\n",
       "<caption>ARMA Model Results</caption>\n",
       "<tr>\n",
       "  <th>Dep. Variable:</th>      <td>Deaths</td>      <th>  No. Observations:  </th>    <td>73</td>   \n",
       "</tr>\n",
       "<tr>\n",
       "  <th>Model:</th>            <td>ARMA(2, 1)</td>    <th>  Log Likelihood     </th>  <td>81.502</td> \n",
       "</tr>\n",
       "<tr>\n",
       "  <th>Method:</th>             <td>css-mle</td>     <th>  S.D. of innovations</th>   <td>0.073</td> \n",
       "</tr>\n",
       "<tr>\n",
       "  <th>Date:</th>          <td>Sat, 04 Apr 2020</td> <th>  AIC                </th> <td>-153.005</td>\n",
       "</tr>\n",
       "<tr>\n",
       "  <th>Time:</th>              <td>10:39:38</td>     <th>  BIC                </th> <td>-141.553</td>\n",
       "</tr>\n",
       "<tr>\n",
       "  <th>Sample:</th>           <td>01-22-2020</td>    <th>  HQIC               </th> <td>-148.441</td>\n",
       "</tr>\n",
       "<tr>\n",
       "  <th></th>                 <td>- 04-03-2020</td>   <th>                     </th>     <td> </td>   \n",
       "</tr>\n",
       "</table>\n",
       "<table class=\"simpletable\">\n",
       "<tr>\n",
       "        <td></td>          <th>coef</th>     <th>std err</th>      <th>z</th>      <th>P>|z|</th>  <th>[0.025</th>    <th>0.975]</th>  \n",
       "</tr>\n",
       "<tr>\n",
       "  <th>const</th>        <td>    4.8042</td> <td>    4.828</td> <td>    0.995</td> <td> 0.323</td> <td>   -4.659</td> <td>   14.267</td>\n",
       "</tr>\n",
       "<tr>\n",
       "  <th>ar.L1.Deaths</th> <td>    1.9887</td> <td>    0.011</td> <td>  179.611</td> <td> 0.000</td> <td>    1.967</td> <td>    2.010</td>\n",
       "</tr>\n",
       "<tr>\n",
       "  <th>ar.L2.Deaths</th> <td>   -0.9892</td> <td>    0.011</td> <td>  -89.848</td> <td> 0.000</td> <td>   -1.011</td> <td>   -0.968</td>\n",
       "</tr>\n",
       "<tr>\n",
       "  <th>ma.L1.Deaths</th> <td>   -0.6970</td> <td>    0.080</td> <td>   -8.712</td> <td> 0.000</td> <td>   -0.854</td> <td>   -0.540</td>\n",
       "</tr>\n",
       "</table>\n",
       "<table class=\"simpletable\">\n",
       "<caption>Roots</caption>\n",
       "<tr>\n",
       "    <td></td>   <th>            Real</th>  <th>         Imaginary</th> <th>         Modulus</th>  <th>        Frequency</th>\n",
       "</tr>\n",
       "<tr>\n",
       "  <th>AR.1</th> <td>           1.0052</td> <td>          -0.0227j</td> <td>           1.0054</td> <td>          -0.0036</td>\n",
       "</tr>\n",
       "<tr>\n",
       "  <th>AR.2</th> <td>           1.0052</td> <td>          +0.0227j</td> <td>           1.0054</td> <td>           0.0036</td>\n",
       "</tr>\n",
       "<tr>\n",
       "  <th>MA.1</th> <td>           1.4347</td> <td>          +0.0000j</td> <td>           1.4347</td> <td>           0.0000</td>\n",
       "</tr>\n",
       "</table>"
      ],
      "text/plain": [
       "<class 'statsmodels.iolib.summary.Summary'>\n",
       "\"\"\"\n",
       "                              ARMA Model Results                              \n",
       "==============================================================================\n",
       "Dep. Variable:                 Deaths   No. Observations:                   73\n",
       "Model:                     ARMA(2, 1)   Log Likelihood                  81.502\n",
       "Method:                       css-mle   S.D. of innovations              0.073\n",
       "Date:                Sat, 04 Apr 2020   AIC                           -153.005\n",
       "Time:                        10:39:38   BIC                           -141.553\n",
       "Sample:                    01-22-2020   HQIC                          -148.441\n",
       "                         - 04-03-2020                                         \n",
       "================================================================================\n",
       "                   coef    std err          z      P>|z|      [0.025      0.975]\n",
       "--------------------------------------------------------------------------------\n",
       "const            4.8042      4.828      0.995      0.323      -4.659      14.267\n",
       "ar.L1.Deaths     1.9887      0.011    179.611      0.000       1.967       2.010\n",
       "ar.L2.Deaths    -0.9892      0.011    -89.848      0.000      -1.011      -0.968\n",
       "ma.L1.Deaths    -0.6970      0.080     -8.712      0.000      -0.854      -0.540\n",
       "                                    Roots                                    \n",
       "=============================================================================\n",
       "                  Real          Imaginary           Modulus         Frequency\n",
       "-----------------------------------------------------------------------------\n",
       "AR.1            1.0052           -0.0227j            1.0054           -0.0036\n",
       "AR.2            1.0052           +0.0227j            1.0054            0.0036\n",
       "MA.1            1.4347           +0.0000j            1.4347            0.0000\n",
       "-----------------------------------------------------------------------------\n",
       "\"\"\""
      ]
     },
     "execution_count": 32,
     "metadata": {},
     "output_type": "execute_result"
    }
   ],
   "source": [
    "# get summary of model \n",
    "arma.summary()"
   ]
  },
  {
   "cell_type": "code",
   "execution_count": 72,
   "metadata": {},
   "outputs": [
    {
     "name": "stderr",
     "output_type": "stream",
     "text": [
      "/anaconda3/lib/python3.7/site-packages/statsmodels/tsa/base/tsa_model.py:336: FutureWarning: Creating a DatetimeIndex by passing range endpoints is deprecated.  Use `pandas.date_range` instead.\n",
      "  freq=base_index.freq)\n"
     ]
    },
    {
     "data": {
      "text/plain": [
       "Text(0.5, 1.0, 'COVID-19 deaths forecast')"
      ]
     },
     "execution_count": 72,
     "metadata": {},
     "output_type": "execute_result"
    },
    {
     "data": {
      "image/png": "[encoded data removed]",
      "text/plain": [
       "<Figure size 432x288 with 1 Axes>"
      ]
     },
     "metadata": {
      "needs_background": "light"
     },
     "output_type": "display_data"
    }
   ],
   "source": [
    "# forecast the number of deaths \n",
    "deaths_forecast = arma.predict(start='2020-01-22', end='2020-12-30')\n",
    "# plot the forecast\n",
    "np.exp(deaths_forecast).plot.line(color='red')\n",
    "plt.title(\"COVID-19 deaths forecast\")"
   ]
  },
  {
   "cell_type": "code",
   "execution_count": 73,
   "metadata": {},
   "outputs": [
    {
     "name": "stderr",
     "output_type": "stream",
     "text": [
      "/anaconda3/lib/python3.7/site-packages/statsmodels/tsa/base/tsa_model.py:171: ValueWarning: No frequency information was provided, so inferred frequency D will be used.\n",
      "  % freq, ValueWarning)\n",
      "/anaconda3/lib/python3.7/site-packages/statsmodels/tsa/base/tsa_model.py:191: FutureWarning: Creating a DatetimeIndex by passing range endpoints is deprecated.  Use `pandas.date_range` instead.\n",
      "  start=index[0], end=index[-1], freq=freq)\n"
     ]
    },
    {
     "data": {
      "text/plain": [
       "<matplotlib.legend.Legend at 0x1c2425d4e0>"
      ]
     },
     "execution_count": 73,
     "metadata": {},
     "output_type": "execute_result"
    },
    {
     "data": {
      "image/png": "[encoded data removed]",
      "text/plain": [
       "<Figure size 432x288 with 1 Axes>"
      ]
     },
     "metadata": {
      "needs_background": "light"
     },
     "output_type": "display_data"
    }
   ],
   "source": [
    "# fit model for recovery forecast\n",
    "arma_recovered = ARMA(log_recovered, order=(1,1,0)).fit()\n",
    "# make prediction\n",
    "arma_y_pred = arma_recovered.predict()\n",
    "# make dataframe with predicted and actual values\n",
    "df = pd.DataFrame({'Predicted': np.exp(arma_y_pred), 'Actual': np.exp(log_recovered)})\n",
    "# display last five\n",
    "df[-5:]\n",
    "# forecast the number of deaths \n",
    "recovered_forecast = arma_recovered.predict(start='2020-01-22', end='2020-5-30')\n",
    "# plot\n",
    "np.exp(recovered_forecast).plot.line(color='red', label='Forecast')\n",
    "covid_data['Recovered'].plot(color='blue', label='Already Recovered')\n",
    "plt.title('COVID-19 recovery forecast')\n",
    "\n",
    "plt.legend()"
   ]
  },
  {
   "cell_type": "code",
   "execution_count": 52,
   "metadata": {},
   "outputs": [
    {
     "data": {
      "text/html": [
       "<table class=\"simpletable\">\n",
       "<caption>ARMA Model Results</caption>\n",
       "<tr>\n",
       "  <th>Dep. Variable:</th>     <td>Recovered</td>    <th>  No. Observations:  </th>   <td>73</td>   \n",
       "</tr>\n",
       "<tr>\n",
       "  <th>Model:</th>            <td>ARMA(1, 1)</td>    <th>  Log Likelihood     </th> <td>39.278</td> \n",
       "</tr>\n",
       "<tr>\n",
       "  <th>Method:</th>             <td>css-mle</td>     <th>  S.D. of innovations</th>  <td>0.134</td> \n",
       "</tr>\n",
       "<tr>\n",
       "  <th>Date:</th>          <td>Sat, 04 Apr 2020</td> <th>  AIC                </th> <td>-70.555</td>\n",
       "</tr>\n",
       "<tr>\n",
       "  <th>Time:</th>              <td>10:46:20</td>     <th>  BIC                </th> <td>-61.393</td>\n",
       "</tr>\n",
       "<tr>\n",
       "  <th>Sample:</th>           <td>01-22-2020</td>    <th>  HQIC               </th> <td>-66.904</td>\n",
       "</tr>\n",
       "<tr>\n",
       "  <th></th>                 <td>- 04-03-2020</td>   <th>                     </th>    <td> </td>   \n",
       "</tr>\n",
       "</table>\n",
       "<table class=\"simpletable\">\n",
       "<tr>\n",
       "         <td></td>            <th>coef</th>     <th>std err</th>      <th>z</th>      <th>P>|z|</th>  <th>[0.025</th>    <th>0.975]</th>  \n",
       "</tr>\n",
       "<tr>\n",
       "  <th>const</th>           <td>    7.9136</td> <td>    4.317</td> <td>    1.833</td> <td> 0.071</td> <td>   -0.547</td> <td>   16.374</td>\n",
       "</tr>\n",
       "<tr>\n",
       "  <th>ar.L1.Recovered</th> <td>    0.9989</td> <td>    0.002</td> <td>  651.651</td> <td> 0.000</td> <td>    0.996</td> <td>    1.002</td>\n",
       "</tr>\n",
       "<tr>\n",
       "  <th>ma.L1.Recovered</th> <td>    0.5290</td> <td>    0.089</td> <td>    5.964</td> <td> 0.000</td> <td>    0.355</td> <td>    0.703</td>\n",
       "</tr>\n",
       "</table>\n",
       "<table class=\"simpletable\">\n",
       "<caption>Roots</caption>\n",
       "<tr>\n",
       "    <td></td>   <th>            Real</th>  <th>         Imaginary</th> <th>         Modulus</th>  <th>        Frequency</th>\n",
       "</tr>\n",
       "<tr>\n",
       "  <th>AR.1</th> <td>           1.0011</td> <td>          +0.0000j</td> <td>           1.0011</td> <td>           0.0000</td>\n",
       "</tr>\n",
       "<tr>\n",
       "  <th>MA.1</th> <td>          -1.8904</td> <td>          +0.0000j</td> <td>           1.8904</td> <td>           0.5000</td>\n",
       "</tr>\n",
       "</table>"
      ],
      "text/plain": [
       "<class 'statsmodels.iolib.summary.Summary'>\n",
       "\"\"\"\n",
       "                              ARMA Model Results                              \n",
       "==============================================================================\n",
       "Dep. Variable:              Recovered   No. Observations:                   73\n",
       "Model:                     ARMA(1, 1)   Log Likelihood                  39.278\n",
       "Method:                       css-mle   S.D. of innovations              0.134\n",
       "Date:                Sat, 04 Apr 2020   AIC                            -70.555\n",
       "Time:                        10:46:20   BIC                            -61.393\n",
       "Sample:                    01-22-2020   HQIC                           -66.904\n",
       "                         - 04-03-2020                                         \n",
       "===================================================================================\n",
       "                      coef    std err          z      P>|z|      [0.025      0.975]\n",
       "-----------------------------------------------------------------------------------\n",
       "const               7.9136      4.317      1.833      0.071      -0.547      16.374\n",
       "ar.L1.Recovered     0.9989      0.002    651.651      0.000       0.996       1.002\n",
       "ma.L1.Recovered     0.5290      0.089      5.964      0.000       0.355       0.703\n",
       "                                    Roots                                    \n",
       "=============================================================================\n",
       "                  Real          Imaginary           Modulus         Frequency\n",
       "-----------------------------------------------------------------------------\n",
       "AR.1            1.0011           +0.0000j            1.0011            0.0000\n",
       "MA.1           -1.8904           +0.0000j            1.8904            0.5000\n",
       "-----------------------------------------------------------------------------\n",
       "\"\"\""
      ]
     },
     "execution_count": 52,
     "metadata": {},
     "output_type": "execute_result"
    }
   ],
   "source": [
    "arma_recovered.summary()"
   ]
  },
  {
   "cell_type": "code",
   "execution_count": 53,
   "metadata": {},
   "outputs": [
    {
     "name": "stderr",
     "output_type": "stream",
     "text": [
      "/anaconda3/lib/python3.7/site-packages/statsmodels/tsa/base/tsa_model.py:171: ValueWarning: No frequency information was provided, so inferred frequency D will be used.\n",
      "  % freq, ValueWarning)\n",
      "/anaconda3/lib/python3.7/site-packages/statsmodels/tsa/base/tsa_model.py:191: FutureWarning: Creating a DatetimeIndex by passing range endpoints is deprecated.  Use `pandas.date_range` instead.\n",
      "  start=index[0], end=index[-1], freq=freq)\n",
      "/anaconda3/lib/python3.7/site-packages/statsmodels/tsa/base/tsa_model.py:171: ValueWarning: No frequency information was provided, so inferred frequency D will be used.\n",
      "  % freq, ValueWarning)\n"
     ]
    },
    {
     "data": {
      "text/html": [
       "<div>\n",
       "<style scoped>\n",
       "    .dataframe tbody tr th:only-of-type {\n",
       "        vertical-align: middle;\n",
       "    }\n",
       "\n",
       "    .dataframe tbody tr th {\n",
       "        vertical-align: top;\n",
       "    }\n",
       "\n",
       "    .dataframe thead th {\n",
       "        text-align: right;\n",
       "    }\n",
       "</style>\n",
       "<table border=\"1\" class=\"dataframe\">\n",
       "  <thead>\n",
       "    <tr style=\"text-align: right;\">\n",
       "      <th></th>\n",
       "      <th>ARIMA Predicted</th>\n",
       "      <th>Actual</th>\n",
       "    </tr>\n",
       "  </thead>\n",
       "  <tbody>\n",
       "    <tr>\n",
       "      <th>2020-03-30</th>\n",
       "      <td>1.117927</td>\n",
       "      <td>37582.0</td>\n",
       "    </tr>\n",
       "    <tr>\n",
       "      <th>2020-03-31</th>\n",
       "      <td>1.111517</td>\n",
       "      <td>42107.0</td>\n",
       "    </tr>\n",
       "    <tr>\n",
       "      <th>2020-04-01</th>\n",
       "      <td>1.116581</td>\n",
       "      <td>46809.0</td>\n",
       "    </tr>\n",
       "    <tr>\n",
       "      <th>2020-04-02</th>\n",
       "      <td>1.117564</td>\n",
       "      <td>52983.0</td>\n",
       "    </tr>\n",
       "    <tr>\n",
       "      <th>2020-04-03</th>\n",
       "      <td>1.122173</td>\n",
       "      <td>58787.0</td>\n",
       "    </tr>\n",
       "  </tbody>\n",
       "</table>\n",
       "</div>"
      ],
      "text/plain": [
       "            ARIMA Predicted   Actual\n",
       "2020-03-30         1.117927  37582.0\n",
       "2020-03-31         1.111517  42107.0\n",
       "2020-04-01         1.116581  46809.0\n",
       "2020-04-02         1.117564  52983.0\n",
       "2020-04-03         1.122173  58787.0"
      ]
     },
     "execution_count": 53,
     "metadata": {},
     "output_type": "execute_result"
    }
   ],
   "source": [
    "# now let's do fit an arima model \n",
    "arima= ARIMA(log_deaths, order=(2, 1,0)).fit() #random walk \n",
    "# make prediction\n",
    "arima_y_pred = arima.predict()\n",
    "# display table with predicted and actual values\n",
    "df = pd.DataFrame({'ARIMA Predicted': np.exp(arima_y_pred), 'Actual': np.exp(log_deaths)})\n",
    "df[-5:]"
   ]
  },
  {
   "cell_type": "code",
   "execution_count": 65,
   "metadata": {},
   "outputs": [
    {
     "name": "stderr",
     "output_type": "stream",
     "text": [
      "/anaconda3/lib/python3.7/site-packages/statsmodels/tsa/base/tsa_model.py:171: ValueWarning: No frequency information was provided, so inferred frequency D will be used.\n",
      "  % freq, ValueWarning)\n",
      "/anaconda3/lib/python3.7/site-packages/statsmodels/tsa/base/tsa_model.py:191: FutureWarning: Creating a DatetimeIndex by passing range endpoints is deprecated.  Use `pandas.date_range` instead.\n",
      "  start=index[0], end=index[-1], freq=freq)\n",
      "/anaconda3/lib/python3.7/site-packages/statsmodels/tsa/base/tsa_model.py:336: FutureWarning: Creating a DatetimeIndex by passing range endpoints is deprecated.  Use `pandas.date_range` instead.\n",
      "  freq=base_index.freq)\n"
     ]
    },
    {
     "data": {
      "text/plain": [
       "<matplotlib.legend.Legend at 0x1a223be630>"
      ]
     },
     "execution_count": 65,
     "metadata": {},
     "output_type": "execute_result"
    },
    {
     "data": {
      "image/png": "[encoded data removed]",
      "text/plain": [
       "<Figure size 432x288 with 1 Axes>"
      ]
     },
     "metadata": {
      "needs_background": "light"
     },
     "output_type": "display_data"
    }
   ],
   "source": [
    "# forecast confirmed number of cases of covid-19\n",
    "arma_confirmed = ARMA(log_confirmed, order=(0,1,1)).fit()\n",
    "confirmed_forecast = arma_confirmed.predict(start='2020-01-22', end='2020-5-30')\n",
    "\n",
    "# plot the forecast against the actual number of confirmed cases so far\n",
    "np.exp(confirmed_forecast).plot.line(color='red', label='Forecast of Confirmed COVID-19')\n",
    "covid_data['Confirmed'].plot(color='blue', label='Already confirmed cases')\n",
    "plt.title('COVID-19 Confirmed Forecast')\n",
    "\n",
    "plt.legend()"
   ]
  },
  {
   "cell_type": "code",
   "execution_count": 75,
   "metadata": {},
   "outputs": [
    {
     "data": {
      "text/plain": [
       "<matplotlib.legend.Legend at 0x1c249674e0>"
      ]
     },
     "execution_count": 75,
     "metadata": {},
     "output_type": "execute_result"
    },
    {
     "data": {
      "image/png": "[encoded data removed]",
      "text/plain": [
       "<Figure size 432x288 with 1 Axes>"
      ]
     },
     "metadata": {
      "needs_background": "light"
     },
     "output_type": "display_data"
    }
   ],
   "source": [
    "# plot current mortality rate plotted against the forecast\n",
    "(covid_data['Deaths'] / covid_data['Confirmed']*100).plot.line(color='blue', label='Actual mortality rate' )\n",
    "np.exp((deaths_forecast/confirmed_forecast)).plot.line(color='red', label='Forecasted rate')\n",
    "\n",
    "plt.legend()"
   ]
  },
  {
   "cell_type": "code",
   "execution_count": 74,
   "metadata": {},
   "outputs": [
    {
     "data": {
      "text/plain": [
       "2020-11-01     21.998595\n",
       "2020-11-02     23.279305\n",
       "2020-11-03     24.641420\n",
       "2020-11-04     26.089609\n",
       "2020-11-05     27.628741\n",
       "2020-11-06     29.263884\n",
       "2020-11-07     31.000306\n",
       "2020-11-08     32.843469\n",
       "2020-11-09     34.799028\n",
       "2020-11-10     36.872827\n",
       "2020-11-11     39.070886\n",
       "2020-11-12     41.399399\n",
       "2020-11-13     43.864720\n",
       "2020-11-14     46.473348\n",
       "2020-11-15     49.231918\n",
       "2020-11-16     52.147177\n",
       "2020-11-17     55.225970\n",
       "2020-11-18     58.475213\n",
       "2020-11-19     61.901874\n",
       "2020-11-20     65.512937\n",
       "2020-11-21     69.315381\n",
       "2020-11-22     73.316142\n",
       "2020-11-23     77.522076\n",
       "2020-11-24     81.939924\n",
       "2020-11-25     86.576269\n",
       "2020-11-26     91.437494\n",
       "2020-11-27     96.529731\n",
       "2020-11-28    101.858818\n",
       "2020-11-29    107.430243\n",
       "2020-11-30    113.249095\n",
       "2020-12-01    119.320006\n",
       "2020-12-02    125.647096\n",
       "2020-12-03    132.233917\n",
       "2020-12-04    139.083393\n",
       "2020-12-05    146.197760\n",
       "2020-12-06    153.578513\n",
       "2020-12-07    161.226341\n",
       "2020-12-08    169.141078\n",
       "2020-12-09    177.321640\n",
       "2020-12-10    185.765979\n",
       "2020-12-11    194.471028\n",
       "2020-12-12    203.432657\n",
       "2020-12-13    212.645628\n",
       "2020-12-14    222.103559\n",
       "2020-12-15    231.798889\n",
       "2020-12-16    241.722853\n",
       "2020-12-17    251.865457\n",
       "2020-12-18    262.215469\n",
       "2020-12-19    272.760407\n",
       "2020-12-20    283.486542\n",
       "2020-12-21    294.378908\n",
       "2020-12-22    305.421319\n",
       "2020-12-23    316.596393\n",
       "2020-12-24    327.885589\n",
       "2020-12-25    339.269252\n",
       "2020-12-26    350.726663\n",
       "2020-12-27    362.236104\n",
       "2020-12-28    373.774926\n",
       "2020-12-29    385.319631\n",
       "2020-12-30    396.845957\n",
       "Freq: D, dtype: float64"
      ]
     },
     "execution_count": 74,
     "metadata": {},
     "output_type": "execute_result"
    }
   ],
   "source": [
    "# last 60 forecasted dates\n",
    "np.exp(deaths_forecast)[-60:]"
   ]
  },
  {
   "cell_type": "code",
   "execution_count": null,
   "metadata": {},
   "outputs": [],
   "source": []
  }
 ],
 "metadata": {
  "kernelspec": {
   "display_name": "Python 3",
   "language": "python",
   "name": "python3"
  },
  "language_info": {
   "codemirror_mode": {
    "name": "ipython",
    "version": 3
   },
   "file_extension": ".py",
   "mimetype": "text/x-python",
   "name": "python",
   "nbconvert_exporter": "python",
   "pygments_lexer": "ipython3",
   "version": "3.7.3"
  }
 },
 "nbformat": 4,
 "nbformat_minor": 2
}
