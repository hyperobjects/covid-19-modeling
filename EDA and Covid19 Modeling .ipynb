{
 "cells": [
  {
   "cell_type": "markdown",
   "metadata": {},
   "source": [
    "# Exploratory Data Analysis, Linear Regression, and Time Series Modeling with COVID19 Worldwide Aggregated Data. "
   ]
  },
  {
   "cell_type": "code",
   "execution_count": 1,
   "metadata": {},
   "outputs": [
    {
     "name": "stdout",
     "output_type": "stream",
     "text": [
      "--2020-04-04 22:48:18--  https://raw.githubusercontent.com/datasets/covid-19/master/data/worldwide-aggregated.csv\n",
      "Resolving raw.githubusercontent.com (raw.githubusercontent.com)... 199.232.36.133\n",
      "Connecting to raw.githubusercontent.com (raw.githubusercontent.com)|199.232.36.133|:443... connected.\n",
      "HTTP request sent, awaiting response... 200 OK\n",
      "Length: 3510 (3.4K) [text/plain]\n",
      "Saving to: ‘worldwide-aggregated.csv’\n",
      "\n",
      "worldwide-aggregate 100%[===================>]   3.43K  --.-KB/s    in 0s      \n",
      "\n",
      "2020-04-04 22:48:19 (15.7 MB/s) - ‘worldwide-aggregated.csv’ saved [3510/3510]\n",
      "\n"
     ]
    }
   ],
   "source": [
    "# first step get data\n",
    "!wget https://raw.githubusercontent.com/datasets/covid-19/master/data/worldwide-aggregated.csv"
   ]
  },
  {
   "cell_type": "code",
   "execution_count": 2,
   "metadata": {},
   "outputs": [],
   "source": [
    "import pandas as pd\n",
    "import numpy as np\n",
    "\n",
    "from sklearn import metrics\n",
    "from sklearn.model_selection import train_test_split\n",
    "from sklearn.linear_model import LinearRegression\n",
    "\n",
    "import seaborn as sns\n",
    "import matplotlib.pyplot as plt\n",
    "%matplotlib inline"
   ]
  },
  {
   "cell_type": "code",
   "execution_count": 3,
   "metadata": {},
   "outputs": [
    {
     "data": {
      "text/plain": [
       "(74, 5)"
      ]
     },
     "execution_count": 3,
     "metadata": {},
     "output_type": "execute_result"
    }
   ],
   "source": [
    "# open csv file \n",
    "covid_data = pd.read_csv('worldwide-aggregated.csv')\n",
    "# get shape of data\n",
    "covid_data.shape"
   ]
  },
  {
   "cell_type": "code",
   "execution_count": 4,
   "metadata": {},
   "outputs": [
    {
     "name": "stdout",
     "output_type": "stream",
     "text": [
      "<class 'pandas.core.frame.DataFrame'>\n",
      "RangeIndex: 74 entries, 0 to 73\n",
      "Data columns (total 5 columns):\n",
      "Date             74 non-null object\n",
      "Confirmed        74 non-null int64\n",
      "Recovered        74 non-null int64\n",
      "Deaths           74 non-null int64\n",
      "Increase rate    73 non-null float64\n",
      "dtypes: float64(1), int64(3), object(1)\n",
      "memory usage: 3.0+ KB\n"
     ]
    }
   ],
   "source": [
    "# get info about dataframe\n",
    "covid_data.info()"
   ]
  },
  {
   "cell_type": "code",
   "execution_count": 5,
   "metadata": {},
   "outputs": [
    {
     "data": {
      "text/html": [
       "<div>\n",
       "<style scoped>\n",
       "    .dataframe tbody tr th:only-of-type {\n",
       "        vertical-align: middle;\n",
       "    }\n",
       "\n",
       "    .dataframe tbody tr th {\n",
       "        vertical-align: top;\n",
       "    }\n",
       "\n",
       "    .dataframe thead th {\n",
       "        text-align: right;\n",
       "    }\n",
       "</style>\n",
       "<table border=\"1\" class=\"dataframe\">\n",
       "  <thead>\n",
       "    <tr style=\"text-align: right;\">\n",
       "      <th></th>\n",
       "      <th>Date</th>\n",
       "      <th>Confirmed</th>\n",
       "      <th>Recovered</th>\n",
       "      <th>Deaths</th>\n",
       "      <th>Increase rate</th>\n",
       "    </tr>\n",
       "  </thead>\n",
       "  <tbody>\n",
       "    <tr>\n",
       "      <th>0</th>\n",
       "      <td>2020-01-22</td>\n",
       "      <td>555</td>\n",
       "      <td>28</td>\n",
       "      <td>17</td>\n",
       "      <td>NaN</td>\n",
       "    </tr>\n",
       "    <tr>\n",
       "      <th>1</th>\n",
       "      <td>2020-01-23</td>\n",
       "      <td>654</td>\n",
       "      <td>30</td>\n",
       "      <td>18</td>\n",
       "      <td>17.837838</td>\n",
       "    </tr>\n",
       "    <tr>\n",
       "      <th>2</th>\n",
       "      <td>2020-01-24</td>\n",
       "      <td>941</td>\n",
       "      <td>36</td>\n",
       "      <td>26</td>\n",
       "      <td>43.883792</td>\n",
       "    </tr>\n",
       "    <tr>\n",
       "      <th>3</th>\n",
       "      <td>2020-01-25</td>\n",
       "      <td>1434</td>\n",
       "      <td>39</td>\n",
       "      <td>42</td>\n",
       "      <td>52.391073</td>\n",
       "    </tr>\n",
       "    <tr>\n",
       "      <th>4</th>\n",
       "      <td>2020-01-26</td>\n",
       "      <td>2118</td>\n",
       "      <td>52</td>\n",
       "      <td>56</td>\n",
       "      <td>47.698745</td>\n",
       "    </tr>\n",
       "  </tbody>\n",
       "</table>\n",
       "</div>"
      ],
      "text/plain": [
       "         Date  Confirmed  Recovered  Deaths  Increase rate\n",
       "0  2020-01-22        555         28      17            NaN\n",
       "1  2020-01-23        654         30      18      17.837838\n",
       "2  2020-01-24        941         36      26      43.883792\n",
       "3  2020-01-25       1434         39      42      52.391073\n",
       "4  2020-01-26       2118         52      56      47.698745"
      ]
     },
     "execution_count": 5,
     "metadata": {},
     "output_type": "execute_result"
    }
   ],
   "source": [
    "# check out the head of the data\n",
    "covid_data.head()"
   ]
  },
  {
   "cell_type": "code",
   "execution_count": 6,
   "metadata": {},
   "outputs": [
    {
     "data": {
      "text/html": [
       "<div>\n",
       "<style scoped>\n",
       "    .dataframe tbody tr th:only-of-type {\n",
       "        vertical-align: middle;\n",
       "    }\n",
       "\n",
       "    .dataframe tbody tr th {\n",
       "        vertical-align: top;\n",
       "    }\n",
       "\n",
       "    .dataframe thead th {\n",
       "        text-align: right;\n",
       "    }\n",
       "</style>\n",
       "<table border=\"1\" class=\"dataframe\">\n",
       "  <thead>\n",
       "    <tr style=\"text-align: right;\">\n",
       "      <th></th>\n",
       "      <th>Date</th>\n",
       "      <th>Confirmed</th>\n",
       "      <th>Recovered</th>\n",
       "      <th>Deaths</th>\n",
       "      <th>Increase rate</th>\n",
       "    </tr>\n",
       "  </thead>\n",
       "  <tbody>\n",
       "    <tr>\n",
       "      <th>69</th>\n",
       "      <td>2020-03-31</td>\n",
       "      <td>857487</td>\n",
       "      <td>178034</td>\n",
       "      <td>42107</td>\n",
       "      <td>9.601912</td>\n",
       "    </tr>\n",
       "    <tr>\n",
       "      <th>70</th>\n",
       "      <td>2020-04-01</td>\n",
       "      <td>932605</td>\n",
       "      <td>193177</td>\n",
       "      <td>46809</td>\n",
       "      <td>8.760249</td>\n",
       "    </tr>\n",
       "    <tr>\n",
       "      <th>71</th>\n",
       "      <td>2020-04-02</td>\n",
       "      <td>1013157</td>\n",
       "      <td>210263</td>\n",
       "      <td>52983</td>\n",
       "      <td>8.637312</td>\n",
       "    </tr>\n",
       "    <tr>\n",
       "      <th>72</th>\n",
       "      <td>2020-04-03</td>\n",
       "      <td>1095917</td>\n",
       "      <td>225796</td>\n",
       "      <td>58787</td>\n",
       "      <td>8.168527</td>\n",
       "    </tr>\n",
       "    <tr>\n",
       "      <th>73</th>\n",
       "      <td>2020-04-04</td>\n",
       "      <td>1197405</td>\n",
       "      <td>246152</td>\n",
       "      <td>64606</td>\n",
       "      <td>9.260555</td>\n",
       "    </tr>\n",
       "  </tbody>\n",
       "</table>\n",
       "</div>"
      ],
      "text/plain": [
       "          Date  Confirmed  Recovered  Deaths  Increase rate\n",
       "69  2020-03-31     857487     178034   42107       9.601912\n",
       "70  2020-04-01     932605     193177   46809       8.760249\n",
       "71  2020-04-02    1013157     210263   52983       8.637312\n",
       "72  2020-04-03    1095917     225796   58787       8.168527\n",
       "73  2020-04-04    1197405     246152   64606       9.260555"
      ]
     },
     "execution_count": 6,
     "metadata": {},
     "output_type": "execute_result"
    }
   ],
   "source": [
    "# check out the tail\n",
    "covid_data.tail()"
   ]
  },
  {
   "cell_type": "code",
   "execution_count": 7,
   "metadata": {},
   "outputs": [
    {
     "data": {
      "text/html": [
       "<div>\n",
       "<style scoped>\n",
       "    .dataframe tbody tr th:only-of-type {\n",
       "        vertical-align: middle;\n",
       "    }\n",
       "\n",
       "    .dataframe tbody tr th {\n",
       "        vertical-align: top;\n",
       "    }\n",
       "\n",
       "    .dataframe thead th {\n",
       "        text-align: right;\n",
       "    }\n",
       "</style>\n",
       "<table border=\"1\" class=\"dataframe\">\n",
       "  <thead>\n",
       "    <tr style=\"text-align: right;\">\n",
       "      <th></th>\n",
       "      <th>Date</th>\n",
       "      <th>Confirmed</th>\n",
       "      <th>Recovered</th>\n",
       "      <th>Deaths</th>\n",
       "      <th>Increase rate</th>\n",
       "    </tr>\n",
       "  </thead>\n",
       "  <tbody>\n",
       "    <tr>\n",
       "      <th>0</th>\n",
       "      <td>2020-01-22</td>\n",
       "      <td>555</td>\n",
       "      <td>28</td>\n",
       "      <td>17</td>\n",
       "      <td>0.000000</td>\n",
       "    </tr>\n",
       "    <tr>\n",
       "      <th>1</th>\n",
       "      <td>2020-01-23</td>\n",
       "      <td>654</td>\n",
       "      <td>30</td>\n",
       "      <td>18</td>\n",
       "      <td>17.837838</td>\n",
       "    </tr>\n",
       "    <tr>\n",
       "      <th>2</th>\n",
       "      <td>2020-01-24</td>\n",
       "      <td>941</td>\n",
       "      <td>36</td>\n",
       "      <td>26</td>\n",
       "      <td>43.883792</td>\n",
       "    </tr>\n",
       "    <tr>\n",
       "      <th>3</th>\n",
       "      <td>2020-01-25</td>\n",
       "      <td>1434</td>\n",
       "      <td>39</td>\n",
       "      <td>42</td>\n",
       "      <td>52.391073</td>\n",
       "    </tr>\n",
       "    <tr>\n",
       "      <th>4</th>\n",
       "      <td>2020-01-26</td>\n",
       "      <td>2118</td>\n",
       "      <td>52</td>\n",
       "      <td>56</td>\n",
       "      <td>47.698745</td>\n",
       "    </tr>\n",
       "  </tbody>\n",
       "</table>\n",
       "</div>"
      ],
      "text/plain": [
       "         Date  Confirmed  Recovered  Deaths  Increase rate\n",
       "0  2020-01-22        555         28      17       0.000000\n",
       "1  2020-01-23        654         30      18      17.837838\n",
       "2  2020-01-24        941         36      26      43.883792\n",
       "3  2020-01-25       1434         39      42      52.391073\n",
       "4  2020-01-26       2118         52      56      47.698745"
      ]
     },
     "execution_count": 7,
     "metadata": {},
     "output_type": "execute_result"
    }
   ],
   "source": [
    "# fill in missing values\n",
    "covid_data = covid_data.fillna(0)\n",
    "covid_data[:5]"
   ]
  },
  {
   "cell_type": "code",
   "execution_count": 8,
   "metadata": {},
   "outputs": [
    {
     "data": {
      "text/html": [
       "<div>\n",
       "<style scoped>\n",
       "    .dataframe tbody tr th:only-of-type {\n",
       "        vertical-align: middle;\n",
       "    }\n",
       "\n",
       "    .dataframe tbody tr th {\n",
       "        vertical-align: top;\n",
       "    }\n",
       "\n",
       "    .dataframe thead th {\n",
       "        text-align: right;\n",
       "    }\n",
       "</style>\n",
       "<table border=\"1\" class=\"dataframe\">\n",
       "  <thead>\n",
       "    <tr style=\"text-align: right;\">\n",
       "      <th></th>\n",
       "      <th>Confirmed</th>\n",
       "      <th>Recovered</th>\n",
       "      <th>Deaths</th>\n",
       "      <th>Increase rate</th>\n",
       "    </tr>\n",
       "  </thead>\n",
       "  <tbody>\n",
       "    <tr>\n",
       "      <th>count</th>\n",
       "      <td>7.400000e+01</td>\n",
       "      <td>74.000000</td>\n",
       "      <td>74.000000</td>\n",
       "      <td>74.000000</td>\n",
       "    </tr>\n",
       "    <tr>\n",
       "      <th>mean</th>\n",
       "      <td>2.005873e+05</td>\n",
       "      <td>53555.608108</td>\n",
       "      <td>8880.837838</td>\n",
       "      <td>11.716230</td>\n",
       "    </tr>\n",
       "    <tr>\n",
       "      <th>std</th>\n",
       "      <td>2.819855e+05</td>\n",
       "      <td>60180.301221</td>\n",
       "      <td>14626.410630</td>\n",
       "      <td>14.719870</td>\n",
       "    </tr>\n",
       "    <tr>\n",
       "      <th>min</th>\n",
       "      <td>5.550000e+02</td>\n",
       "      <td>28.000000</td>\n",
       "      <td>17.000000</td>\n",
       "      <td>0.000000</td>\n",
       "    </tr>\n",
       "    <tr>\n",
       "      <th>25%</th>\n",
       "      <td>4.080300e+04</td>\n",
       "      <td>3419.500000</td>\n",
       "      <td>932.750000</td>\n",
       "      <td>2.818456</td>\n",
       "    </tr>\n",
       "    <tr>\n",
       "      <th>50%</th>\n",
       "      <td>8.342900e+04</td>\n",
       "      <td>34994.000000</td>\n",
       "      <td>2843.000000</td>\n",
       "      <td>8.492026</td>\n",
       "    </tr>\n",
       "    <tr>\n",
       "      <th>75%</th>\n",
       "      <td>1.932200e+05</td>\n",
       "      <td>80152.000000</td>\n",
       "      <td>7710.250000</td>\n",
       "      <td>12.141574</td>\n",
       "    </tr>\n",
       "    <tr>\n",
       "      <th>max</th>\n",
       "      <td>1.197405e+06</td>\n",
       "      <td>246152.000000</td>\n",
       "      <td>64606.000000</td>\n",
       "      <td>90.570550</td>\n",
       "    </tr>\n",
       "  </tbody>\n",
       "</table>\n",
       "</div>"
      ],
      "text/plain": [
       "          Confirmed      Recovered        Deaths  Increase rate\n",
       "count  7.400000e+01      74.000000     74.000000      74.000000\n",
       "mean   2.005873e+05   53555.608108   8880.837838      11.716230\n",
       "std    2.819855e+05   60180.301221  14626.410630      14.719870\n",
       "min    5.550000e+02      28.000000     17.000000       0.000000\n",
       "25%    4.080300e+04    3419.500000    932.750000       2.818456\n",
       "50%    8.342900e+04   34994.000000   2843.000000       8.492026\n",
       "75%    1.932200e+05   80152.000000   7710.250000      12.141574\n",
       "max    1.197405e+06  246152.000000  64606.000000      90.570550"
      ]
     },
     "execution_count": 8,
     "metadata": {},
     "output_type": "execute_result"
    }
   ],
   "source": [
    "# get descriptive stats on the data\n",
    "covid_data.describe()"
   ]
  },
  {
   "cell_type": "code",
   "execution_count": 9,
   "metadata": {},
   "outputs": [],
   "source": [
    "# set date to index\n",
    "covid_data['Date'] = pd.to_datetime(covid_data['Date'])\n",
    "covid_data = covid_data.set_index('Date')"
   ]
  },
  {
   "cell_type": "code",
   "execution_count": 10,
   "metadata": {},
   "outputs": [
    {
     "data": {
      "text/plain": [
       "Text(0, 0.5, 'Deaths')"
      ]
     },
     "execution_count": 10,
     "metadata": {},
     "output_type": "execute_result"
    },
    {
     "data": {
      "image/png": "[encoded data removed]",
      "text/plain": [
       "<Figure size 432x288 with 1 Axes>"
      ]
     },
     "metadata": {
      "needs_background": "light"
     },
     "output_type": "display_data"
    }
   ],
   "source": [
    "# real quick, let's do a line plot of deaths over time\n",
    "covid_data['Deaths'].plot.line()\n",
    "plt.title('COVID-19 deaths to date')\n",
    "plt.ylabel('Deaths')"
   ]
  },
  {
   "cell_type": "code",
   "execution_count": 11,
   "metadata": {},
   "outputs": [
    {
     "data": {
      "text/plain": [
       "Text(0, 0.5, '% of recovered patients')"
      ]
     },
     "execution_count": 11,
     "metadata": {},
     "output_type": "execute_result"
    },
    {
     "data": {
      "image/png": "[encoded data removed]",
      "text/plain": [
       "<Figure size 432x288 with 1 Axes>"
      ]
     },
     "metadata": {
      "needs_background": "light"
     },
     "output_type": "display_data"
    }
   ],
   "source": [
    "# calculate recovery Rate\n",
    "(covid_data['Recovered'] / covid_data['Confirmed']).plot.line()\n",
    "plt.title(\"COVID19 recovery rate\")\n",
    "plt.ylabel('% of recovered patients')"
   ]
  },
  {
   "cell_type": "code",
   "execution_count": 12,
   "metadata": {},
   "outputs": [
    {
     "data": {
      "text/plain": [
       "Text(0.5, 1.0, 'Aggregated worldwide COVID-19 mortality rate')"
      ]
     },
     "execution_count": 12,
     "metadata": {},
     "output_type": "execute_result"
    },
    {
     "data": {
      "image/png": "[encoded data removed]",
      "text/plain": [
       "<Figure size 432x288 with 1 Axes>"
      ]
     },
     "metadata": {
      "needs_background": "light"
     },
     "output_type": "display_data"
    }
   ],
   "source": [
    "# calculate mortality rate\n",
    "(covid_data['Deaths'] / covid_data['Confirmed']).plot.line()\n",
    "plt.title(\"Aggregated worldwide COVID-19 mortality rate\")"
   ]
  },
  {
   "cell_type": "code",
   "execution_count": 13,
   "metadata": {},
   "outputs": [
    {
     "data": {
      "text/plain": [
       "Text(0.5, 1.0, 'Increase in COVID-19 cases worldwide')"
      ]
     },
     "execution_count": 13,
     "metadata": {},
     "output_type": "execute_result"
    },
    {
     "data": {
      "image/png": "[encoded data removed]",
      "text/plain": [
       "<Figure size 432x288 with 1 Axes>"
      ]
     },
     "metadata": {
      "needs_background": "light"
     },
     "output_type": "display_data"
    }
   ],
   "source": [
    "# plot increase rate\n",
    "covid_data['Increase rate'].plot.line()\n",
    "plt.title(\"Increase in COVID-19 cases worldwide\")"
   ]
  },
  {
   "cell_type": "code",
   "execution_count": 14,
   "metadata": {},
   "outputs": [
    {
     "data": {
      "text/plain": [
       "<seaborn.axisgrid.PairGrid at 0x1a1fc9ae10>"
      ]
     },
     "execution_count": 14,
     "metadata": {},
     "output_type": "execute_result"
    },
    {
     "data": {
      "image/png": "[encoded data removed]",
      "text/plain": [
       "<Figure size 720x720 with 20 Axes>"
      ]
     },
     "metadata": {
      "needs_background": "light"
     },
     "output_type": "display_data"
    }
   ],
   "source": [
    "# Use seaborn pairplot to visualize correlations in covid-19 dataset\n",
    "sns.pairplot(covid_data)"
   ]
  },
  {
   "cell_type": "code",
   "execution_count": 15,
   "metadata": {},
   "outputs": [
    {
     "data": {
      "text/html": [
       "<div>\n",
       "<style scoped>\n",
       "    .dataframe tbody tr th:only-of-type {\n",
       "        vertical-align: middle;\n",
       "    }\n",
       "\n",
       "    .dataframe tbody tr th {\n",
       "        vertical-align: top;\n",
       "    }\n",
       "\n",
       "    .dataframe thead th {\n",
       "        text-align: right;\n",
       "    }\n",
       "</style>\n",
       "<table border=\"1\" class=\"dataframe\">\n",
       "  <thead>\n",
       "    <tr style=\"text-align: right;\">\n",
       "      <th></th>\n",
       "      <th>Confirmed</th>\n",
       "      <th>Recovered</th>\n",
       "      <th>Deaths</th>\n",
       "      <th>Increase rate</th>\n",
       "    </tr>\n",
       "  </thead>\n",
       "  <tbody>\n",
       "    <tr>\n",
       "      <th>Confirmed</th>\n",
       "      <td>1.000000</td>\n",
       "      <td>0.959665</td>\n",
       "      <td>0.996935</td>\n",
       "      <td>-0.137068</td>\n",
       "    </tr>\n",
       "    <tr>\n",
       "      <th>Recovered</th>\n",
       "      <td>0.959665</td>\n",
       "      <td>1.000000</td>\n",
       "      <td>0.946758</td>\n",
       "      <td>-0.216645</td>\n",
       "    </tr>\n",
       "    <tr>\n",
       "      <th>Deaths</th>\n",
       "      <td>0.996935</td>\n",
       "      <td>0.946758</td>\n",
       "      <td>1.000000</td>\n",
       "      <td>-0.110578</td>\n",
       "    </tr>\n",
       "    <tr>\n",
       "      <th>Increase rate</th>\n",
       "      <td>-0.137068</td>\n",
       "      <td>-0.216645</td>\n",
       "      <td>-0.110578</td>\n",
       "      <td>1.000000</td>\n",
       "    </tr>\n",
       "  </tbody>\n",
       "</table>\n",
       "</div>"
      ],
      "text/plain": [
       "               Confirmed  Recovered    Deaths  Increase rate\n",
       "Confirmed       1.000000   0.959665  0.996935      -0.137068\n",
       "Recovered       0.959665   1.000000  0.946758      -0.216645\n",
       "Deaths          0.996935   0.946758  1.000000      -0.110578\n",
       "Increase rate  -0.137068  -0.216645 -0.110578       1.000000"
      ]
     },
     "execution_count": 15,
     "metadata": {},
     "output_type": "execute_result"
    }
   ],
   "source": [
    "# just the numbers on how the variables correlate\n",
    "covid_data.corr()"
   ]
  },
  {
   "cell_type": "code",
   "execution_count": 16,
   "metadata": {},
   "outputs": [],
   "source": [
    "# use highest corr var as X \n",
    "X = covid_data['Confirmed'].values.reshape(-1,1)\n",
    "y = covid_data['Deaths'].values.reshape(-1,1)"
   ]
  },
  {
   "cell_type": "code",
   "execution_count": 17,
   "metadata": {},
   "outputs": [],
   "source": [
    "# split the data 80% in train and 20% in test set\n",
    "X_train, X_test, y_train, y_test = train_test_split(X, y, test_size=0.2,random_state=1)"
   ]
  },
  {
   "cell_type": "code",
   "execution_count": 18,
   "metadata": {},
   "outputs": [
    {
     "data": {
      "text/plain": [
       "((59, 1), (59, 1))"
      ]
     },
     "execution_count": 18,
     "metadata": {},
     "output_type": "execute_result"
    }
   ],
   "source": [
    "# check to make sure X and y have the same shape\n",
    "X_train.shape, y_train.shape"
   ]
  },
  {
   "cell_type": "code",
   "execution_count": 19,
   "metadata": {},
   "outputs": [],
   "source": [
    "# fit regression model to training data\n",
    "lr = LinearRegression().fit(X_train, y_train)"
   ]
  },
  {
   "cell_type": "code",
   "execution_count": 20,
   "metadata": {},
   "outputs": [
    {
     "name": "stdout",
     "output_type": "stream",
     "text": [
      "intercept: [-1472.86999016] coef: [[0.05179712]]\n"
     ]
    }
   ],
   "source": [
    "# display intercept and coef\n",
    "print('intercept:', lr.intercept_, 'coef:', lr.coef_)"
   ]
  },
  {
   "cell_type": "code",
   "execution_count": 21,
   "metadata": {},
   "outputs": [],
   "source": [
    "# now predict values of regression set \n",
    "y_pred = lr.predict(X_test)"
   ]
  },
  {
   "cell_type": "code",
   "execution_count": 22,
   "metadata": {},
   "outputs": [
    {
     "data": {
      "text/html": [
       "<div>\n",
       "<style scoped>\n",
       "    .dataframe tbody tr th:only-of-type {\n",
       "        vertical-align: middle;\n",
       "    }\n",
       "\n",
       "    .dataframe tbody tr th {\n",
       "        vertical-align: top;\n",
       "    }\n",
       "\n",
       "    .dataframe thead th {\n",
       "        text-align: right;\n",
       "    }\n",
       "</style>\n",
       "<table border=\"1\" class=\"dataframe\">\n",
       "  <thead>\n",
       "    <tr style=\"text-align: right;\">\n",
       "      <th></th>\n",
       "      <th>Actual # of Deaths</th>\n",
       "      <th>Predicted # of Deaths</th>\n",
       "    </tr>\n",
       "  </thead>\n",
       "  <tbody>\n",
       "    <tr>\n",
       "      <th>0</th>\n",
       "      <td>1013</td>\n",
       "      <td>742.078354</td>\n",
       "    </tr>\n",
       "    <tr>\n",
       "      <th>1</th>\n",
       "      <td>7905</td>\n",
       "      <td>8736.445490</td>\n",
       "    </tr>\n",
       "    <tr>\n",
       "      <th>2</th>\n",
       "      <td>259</td>\n",
       "      <td>-849.336288</td>\n",
       "    </tr>\n",
       "    <tr>\n",
       "      <th>3</th>\n",
       "      <td>46809</td>\n",
       "      <td>46833.380902</td>\n",
       "    </tr>\n",
       "    <tr>\n",
       "      <th>4</th>\n",
       "      <td>7126</td>\n",
       "      <td>7932.139847</td>\n",
       "    </tr>\n",
       "    <tr>\n",
       "      <th>5</th>\n",
       "      <td>1868</td>\n",
       "      <td>2321.683254</td>\n",
       "    </tr>\n",
       "    <tr>\n",
       "      <th>6</th>\n",
       "      <td>3085</td>\n",
       "      <td>3204.720515</td>\n",
       "    </tr>\n",
       "    <tr>\n",
       "      <th>7</th>\n",
       "      <td>2629</td>\n",
       "      <td>2648.160486</td>\n",
       "    </tr>\n",
       "    <tr>\n",
       "      <th>8</th>\n",
       "      <td>2708</td>\n",
       "      <td>2691.929050</td>\n",
       "    </tr>\n",
       "    <tr>\n",
       "      <th>9</th>\n",
       "      <td>14651</td>\n",
       "      <td>15980.324188</td>\n",
       "    </tr>\n",
       "    <tr>\n",
       "      <th>10</th>\n",
       "      <td>3460</td>\n",
       "      <td>3800.128382</td>\n",
       "    </tr>\n",
       "    <tr>\n",
       "      <th>11</th>\n",
       "      <td>3988</td>\n",
       "      <td>4410.764602</td>\n",
       "    </tr>\n",
       "    <tr>\n",
       "      <th>12</th>\n",
       "      <td>26</td>\n",
       "      <td>-1424.128902</td>\n",
       "    </tr>\n",
       "    <tr>\n",
       "      <th>13</th>\n",
       "      <td>6440</td>\n",
       "      <td>7200.764546</td>\n",
       "    </tr>\n",
       "    <tr>\n",
       "      <th>14</th>\n",
       "      <td>2007</td>\n",
       "      <td>2418.958240</td>\n",
       "    </tr>\n",
       "  </tbody>\n",
       "</table>\n",
       "</div>"
      ],
      "text/plain": [
       "    Actual # of Deaths  Predicted # of Deaths\n",
       "0                 1013             742.078354\n",
       "1                 7905            8736.445490\n",
       "2                  259            -849.336288\n",
       "3                46809           46833.380902\n",
       "4                 7126            7932.139847\n",
       "5                 1868            2321.683254\n",
       "6                 3085            3204.720515\n",
       "7                 2629            2648.160486\n",
       "8                 2708            2691.929050\n",
       "9                14651           15980.324188\n",
       "10                3460            3800.128382\n",
       "11                3988            4410.764602\n",
       "12                  26           -1424.128902\n",
       "13                6440            7200.764546\n",
       "14                2007            2418.958240"
      ]
     },
     "execution_count": 22,
     "metadata": {},
     "output_type": "execute_result"
    }
   ],
   "source": [
    "# create and display a dataframe with actual and predicted numbers of deaths\n",
    "df = pd.DataFrame({'Actual # of Deaths': y_test.flatten(), 'Predicted # of Deaths': y_pred.flatten()})\n",
    "df"
   ]
  },
  {
   "cell_type": "code",
   "execution_count": 23,
   "metadata": {},
   "outputs": [
    {
     "name": "stdout",
     "output_type": "stream",
     "text": [
      "Mean Absolute Error: 557.6618826529826\n",
      "Mean Squared Error: 518481.2260125318\n",
      "Root Mean Squared Error: 720.0564047437755\n"
     ]
    }
   ],
   "source": [
    "# now let's look at the error in this model\n",
    "print('Mean Absolute Error:', metrics.mean_absolute_error(y_test, y_pred))  \n",
    "print('Mean Squared Error:', metrics.mean_squared_error(y_test, y_pred))  \n",
    "print('Root Mean Squared Error:', np.sqrt(metrics.mean_squared_error(y_test, y_pred)))"
   ]
  },
  {
   "cell_type": "code",
   "execution_count": 24,
   "metadata": {},
   "outputs": [
    {
     "data": {
      "image/png": "[encoded data removed]",
      "text/plain": [
       "<Figure size 432x288 with 1 Axes>"
      ]
     },
     "metadata": {
      "needs_background": "light"
     },
     "output_type": "display_data"
    }
   ],
   "source": [
    "# linear regression line plot with test data\n",
    "plt.scatter(X_test, y_test, color='black')\n",
    "plt.scatter(X_test, y_pred,  color='red')\n",
    "plt.plot(X_test, y_pred,  color='teal',linewidth=2)\n",
    "\n",
    "plt.title('Linear Regression for deaths from COVID-19')  \n",
    "plt.xlabel('Confirmed Cases')  \n",
    "plt.ylabel('Deaths')\n",
    "\n",
    "plt.show()"
   ]
  },
  {
   "cell_type": "code",
   "execution_count": 25,
   "metadata": {},
   "outputs": [
    {
     "name": "stdout",
     "output_type": "stream",
     "text": [
      "Model accuracy score: 0.9959067699860005\n"
     ]
    }
   ],
   "source": [
    "# Use score to get accuracy of model\n",
    "score = lr.score(X_test, y_test)\n",
    "print('Model accuracy score:', score)"
   ]
  },
  {
   "cell_type": "code",
   "execution_count": 26,
   "metadata": {},
   "outputs": [
    {
     "data": {
      "image/png": "[encoded data removed]",
      "text/plain": [
       "<Figure size 432x288 with 1 Axes>"
      ]
     },
     "metadata": {
      "needs_background": "light"
     },
     "output_type": "display_data"
    },
    {
     "name": "stdout",
     "output_type": "stream",
     "text": [
      "intercept: [-3228.05645069] coef: [[0.23321227]]\n",
      "Mean Absolute Error: 4415.609969726408\n",
      "Mean Squared Error: 26039406.211911775\n",
      "Root Mean Squared Error: 5102.882147562471\n",
      "Model accuracy score: 0.7944278911060396\n"
     ]
    }
   ],
   "source": [
    "# Now let's redraw the line for the second highest correlated var, Recovered\n",
    "X = covid_data['Recovered'].values.reshape(-1,1)\n",
    "y = covid_data['Deaths'].values.reshape(-1,1)\n",
    "\n",
    "# split data\n",
    "X_train, X_test, y_train, y_test = train_test_split(X, y, test_size=0.2,random_state=1)\n",
    "\n",
    "#from sklearn.linear_model import LogisticRegression\n",
    "# fit regression model to training data\n",
    "lr = LinearRegression().fit(X_train, y_train)\n",
    "\n",
    "# now predict values of regression set \n",
    "y_pred = lr.predict(X_test)\n",
    "\n",
    "# Display dataframe of actual and predicted # of deaths\n",
    "df = pd.DataFrame({'Actual # of Deaths': y_test.flatten(), 'Predicted # of Deaths': y_pred.flatten()})\n",
    "df\n",
    "\n",
    "# linear regression line plot with test data\n",
    "plt.scatter(X_test, y_test)\n",
    "plt.scatter(X_test, y_pred, color='gray')\n",
    "plt.plot(X_test, y_pred, color='red',linewidth=2)\n",
    "plt.title('Recovered Cases and Deaths from COVID-19')  \n",
    "plt.xlabel('Recovered')  \n",
    "plt.ylabel('Deaths')  \n",
    "\n",
    "plt.show()\n",
    "\n",
    "# display intercept and coef\n",
    "print('intercept:', lr.intercept_, 'coef:', lr.coef_)\n",
    "#print()\n",
    "\n",
    "# display error \n",
    "print('Mean Absolute Error:', metrics.mean_absolute_error(y_test, y_pred))  \n",
    "print('Mean Squared Error:', metrics.mean_squared_error(y_test, y_pred))  \n",
    "print('Root Mean Squared Error:', np.sqrt(metrics.mean_squared_error(y_test, y_pred)))\n",
    "\n",
    "# Use score to get accuracy of model\n",
    "score = lr.score(X_test, y_test)\n",
    "print('Model accuracy score:', score)"
   ]
  },
  {
   "cell_type": "code",
   "execution_count": 27,
   "metadata": {},
   "outputs": [
    {
     "data": {
      "text/plain": [
       "Index(['Confirmed', 'Recovered', 'Deaths', 'Increase rate'], dtype='object')"
      ]
     },
     "execution_count": 27,
     "metadata": {},
     "output_type": "execute_result"
    }
   ],
   "source": [
    "# check column titles\n",
    "covid_data.columns"
   ]
  },
  {
   "cell_type": "code",
   "execution_count": 28,
   "metadata": {},
   "outputs": [],
   "source": [
    "# Let's try to use the ARIMA and ARMA models\n",
    "from statsmodels.tsa.arima_model import ARIMA\n",
    "from statsmodels.tsa.arima_model import ARMA"
   ]
  },
  {
   "cell_type": "code",
   "execution_count": 29,
   "metadata": {},
   "outputs": [
    {
     "data": {
      "text/plain": [
       "Date\n",
       "2020-01-22    17.0\n",
       "2020-01-23    18.0\n",
       "2020-01-24    26.0\n",
       "2020-01-25    42.0\n",
       "2020-01-26    56.0\n",
       "Name: Deaths, dtype: float64"
      ]
     },
     "execution_count": 29,
     "metadata": {},
     "output_type": "execute_result"
    }
   ],
   "source": [
    "# a different way to set date to index\n",
    "data = pd.read_csv('worldwide-aggregated.csv', index_col=\"Date\")\n",
    "\n",
    "# fill empty obs with zero\n",
    "data = data.fillna(0)\n",
    "\n",
    "# create a log of y\n",
    "log_deaths = np.log(data['Deaths'])\n",
    "log_recovered = np.log(data['Recovered'])\n",
    "log_confirmed = np.log(covid_data['Confirmed'])\n",
    "\n",
    "np.exp(log_deaths).head()"
   ]
  },
  {
   "cell_type": "code",
   "execution_count": 38,
   "metadata": {},
   "outputs": [
    {
     "name": "stderr",
     "output_type": "stream",
     "text": [
      "/anaconda3/lib/python3.7/site-packages/statsmodels/tsa/base/tsa_model.py:171: ValueWarning: No frequency information was provided, so inferred frequency D will be used.\n",
      "  % freq, ValueWarning)\n"
     ]
    },
    {
     "data": {
      "text/html": [
       "<div>\n",
       "<style scoped>\n",
       "    .dataframe tbody tr th:only-of-type {\n",
       "        vertical-align: middle;\n",
       "    }\n",
       "\n",
       "    .dataframe tbody tr th {\n",
       "        vertical-align: top;\n",
       "    }\n",
       "\n",
       "    .dataframe thead th {\n",
       "        text-align: right;\n",
       "    }\n",
       "</style>\n",
       "<table border=\"1\" class=\"dataframe\">\n",
       "  <thead>\n",
       "    <tr style=\"text-align: right;\">\n",
       "      <th></th>\n",
       "      <th>Predicted</th>\n",
       "      <th>Actual</th>\n",
       "    </tr>\n",
       "  </thead>\n",
       "  <tbody>\n",
       "    <tr>\n",
       "      <th>2020-03-31</th>\n",
       "      <td>40664.103275</td>\n",
       "      <td>42107.0</td>\n",
       "    </tr>\n",
       "    <tr>\n",
       "      <th>2020-04-01</th>\n",
       "      <td>45975.892020</td>\n",
       "      <td>46809.0</td>\n",
       "    </tr>\n",
       "    <tr>\n",
       "      <th>2020-04-02</th>\n",
       "      <td>50776.204354</td>\n",
       "      <td>52983.0</td>\n",
       "    </tr>\n",
       "    <tr>\n",
       "      <th>2020-04-03</th>\n",
       "      <td>58316.315645</td>\n",
       "      <td>58787.0</td>\n",
       "    </tr>\n",
       "    <tr>\n",
       "      <th>2020-04-04</th>\n",
       "      <td>63648.728608</td>\n",
       "      <td>64606.0</td>\n",
       "    </tr>\n",
       "  </tbody>\n",
       "</table>\n",
       "</div>"
      ],
      "text/plain": [
       "               Predicted   Actual\n",
       "2020-03-31  40664.103275  42107.0\n",
       "2020-04-01  45975.892020  46809.0\n",
       "2020-04-02  50776.204354  52983.0\n",
       "2020-04-03  58316.315645  58787.0\n",
       "2020-04-04  63648.728608  64606.0"
      ]
     },
     "execution_count": 38,
     "metadata": {},
     "output_type": "execute_result"
    }
   ],
   "source": [
    "# fit model\n",
    "arma = ARMA(log_deaths, order=(2, 0, 3)).fit()\n",
    "# make prediction\n",
    "arma_y_pred = arma.predict()\n",
    "# make dataframe with predicted and actual values\n",
    "df = pd.DataFrame({'Predicted': np.exp(arma_y_pred), 'Actual': np.exp(log_deaths)})\n",
    "# display last five\n",
    "df[-5:]"
   ]
  },
  {
   "cell_type": "code",
   "execution_count": 41,
   "metadata": {},
   "outputs": [
    {
     "data": {
      "text/html": [
       "<table class=\"simpletable\">\n",
       "<caption>ARMA Model Results</caption>\n",
       "<tr>\n",
       "  <th>Dep. Variable:</th>      <td>Deaths</td>      <th>  No. Observations:  </th>    <td>74</td>   \n",
       "</tr>\n",
       "<tr>\n",
       "  <th>Model:</th>            <td>ARMA(2, 0)</td>    <th>  Log Likelihood     </th>  <td>72.775</td> \n",
       "</tr>\n",
       "<tr>\n",
       "  <th>Method:</th>             <td>css-mle</td>     <th>  S.D. of innovations</th>   <td>0.085</td> \n",
       "</tr>\n",
       "<tr>\n",
       "  <th>Date:</th>          <td>Sat, 04 Apr 2020</td> <th>  AIC                </th> <td>-137.550</td>\n",
       "</tr>\n",
       "<tr>\n",
       "  <th>Time:</th>              <td>22:51:09</td>     <th>  BIC                </th> <td>-128.334</td>\n",
       "</tr>\n",
       "<tr>\n",
       "  <th>Sample:</th>           <td>01-22-2020</td>    <th>  HQIC               </th> <td>-133.874</td>\n",
       "</tr>\n",
       "<tr>\n",
       "  <th></th>                 <td>- 04-04-2020</td>   <th>                     </th>     <td> </td>   \n",
       "</tr>\n",
       "</table>\n",
       "<table class=\"simpletable\">\n",
       "<tr>\n",
       "        <td></td>          <th>coef</th>     <th>std err</th>      <th>z</th>      <th>P>|z|</th>  <th>[0.025</th>    <th>0.975]</th>  \n",
       "</tr>\n",
       "<tr>\n",
       "  <th>const</th>        <td>    7.2016</td> <td>    3.272</td> <td>    2.201</td> <td> 0.031</td> <td>    0.788</td> <td>   13.615</td>\n",
       "</tr>\n",
       "<tr>\n",
       "  <th>ar.L1.Deaths</th> <td>    1.8158</td> <td>    0.062</td> <td>   29.179</td> <td> 0.000</td> <td>    1.694</td> <td>    1.938</td>\n",
       "</tr>\n",
       "<tr>\n",
       "  <th>ar.L2.Deaths</th> <td>   -0.8173</td> <td>    0.063</td> <td>  -13.025</td> <td> 0.000</td> <td>   -0.940</td> <td>   -0.694</td>\n",
       "</tr>\n",
       "</table>\n",
       "<table class=\"simpletable\">\n",
       "<caption>Roots</caption>\n",
       "<tr>\n",
       "    <td></td>   <th>            Real</th>  <th>         Imaginary</th> <th>         Modulus</th>  <th>        Frequency</th>\n",
       "</tr>\n",
       "<tr>\n",
       "  <th>AR.1</th> <td>           1.0083</td> <td>          +0.0000j</td> <td>           1.0083</td> <td>           0.0000</td>\n",
       "</tr>\n",
       "<tr>\n",
       "  <th>AR.2</th> <td>           1.2135</td> <td>          +0.0000j</td> <td>           1.2135</td> <td>           0.0000</td>\n",
       "</tr>\n",
       "</table>"
      ],
      "text/plain": [
       "<class 'statsmodels.iolib.summary.Summary'>\n",
       "\"\"\"\n",
       "                              ARMA Model Results                              \n",
       "==============================================================================\n",
       "Dep. Variable:                 Deaths   No. Observations:                   74\n",
       "Model:                     ARMA(2, 0)   Log Likelihood                  72.775\n",
       "Method:                       css-mle   S.D. of innovations              0.085\n",
       "Date:                Sat, 04 Apr 2020   AIC                           -137.550\n",
       "Time:                        22:51:09   BIC                           -128.334\n",
       "Sample:                    01-22-2020   HQIC                          -133.874\n",
       "                         - 04-04-2020                                         \n",
       "================================================================================\n",
       "                   coef    std err          z      P>|z|      [0.025      0.975]\n",
       "--------------------------------------------------------------------------------\n",
       "const            7.2016      3.272      2.201      0.031       0.788      13.615\n",
       "ar.L1.Deaths     1.8158      0.062     29.179      0.000       1.694       1.938\n",
       "ar.L2.Deaths    -0.8173      0.063    -13.025      0.000      -0.940      -0.694\n",
       "                                    Roots                                    \n",
       "=============================================================================\n",
       "                  Real          Imaginary           Modulus         Frequency\n",
       "-----------------------------------------------------------------------------\n",
       "AR.1            1.0083           +0.0000j            1.0083            0.0000\n",
       "AR.2            1.2135           +0.0000j            1.2135            0.0000\n",
       "-----------------------------------------------------------------------------\n",
       "\"\"\""
      ]
     },
     "execution_count": 41,
     "metadata": {},
     "output_type": "execute_result"
    }
   ],
   "source": [
    "# get summary of model \n",
    "arma.summary()"
   ]
  },
  {
   "cell_type": "code",
   "execution_count": 65,
   "metadata": {},
   "outputs": [
    {
     "data": {
      "text/plain": [
       "Text(0.5, 1.0, 'COVID-19 deaths forecast')"
      ]
     },
     "execution_count": 65,
     "metadata": {},
     "output_type": "execute_result"
    },
    {
     "data": {
      "image/png": "[encoded data removed]",
      "text/plain": [
       "<Figure size 432x288 with 1 Axes>"
      ]
     },
     "metadata": {
      "needs_background": "light"
     },
     "output_type": "display_data"
    }
   ],
   "source": [
    "# forecast the number of deaths \n",
    "deaths_forecast = arma.predict(start='2020-01-22', end='2020-5-30')\n",
    "# plot the forecast\n",
    "np.exp(deaths_forecast).plot.line(color='red')\n",
    "plt.title(\"COVID-19 deaths forecast\")"
   ]
  },
  {
   "cell_type": "code",
   "execution_count": 43,
   "metadata": {},
   "outputs": [
    {
     "name": "stderr",
     "output_type": "stream",
     "text": [
      "/anaconda3/lib/python3.7/site-packages/statsmodels/tsa/base/tsa_model.py:171: ValueWarning: No frequency information was provided, so inferred frequency D will be used.\n",
      "  % freq, ValueWarning)\n"
     ]
    },
    {
     "data": {
      "text/plain": [
       "<matplotlib.legend.Legend at 0x1c21b05be0>"
      ]
     },
     "execution_count": 43,
     "metadata": {},
     "output_type": "execute_result"
    },
    {
     "data": {
      "image/png": "[encoded data removed]",
      "text/plain": [
       "<Figure size 432x288 with 1 Axes>"
      ]
     },
     "metadata": {
      "needs_background": "light"
     },
     "output_type": "display_data"
    }
   ],
   "source": [
    "# fit model for recovery forecast\n",
    "arma_recovered = ARMA(log_recovered, order=(1,1,0)).fit()\n",
    "# make prediction\n",
    "arma_y_pred = arma_recovered.predict()\n",
    "# make dataframe with predicted and actual values\n",
    "df = pd.DataFrame({'Predicted': np.exp(arma_y_pred), 'Actual': np.exp(log_recovered)})\n",
    "# display last five\n",
    "df[-5:]\n",
    "# forecast the number of deaths \n",
    "recovered_forecast = arma_recovered.predict(start='2020-01-22', end='2020-5-30')\n",
    "# plot\n",
    "np.exp(recovered_forecast).plot.line(color='red', label='Forecast')\n",
    "covid_data['Recovered'].plot(color='blue', label='Already recovered')\n",
    "plt.title('COVID-19 recovery forecast')\n",
    "\n",
    "plt.legend()"
   ]
  },
  {
   "cell_type": "code",
   "execution_count": 44,
   "metadata": {},
   "outputs": [
    {
     "data": {
      "text/html": [
       "<table class=\"simpletable\">\n",
       "<caption>ARMA Model Results</caption>\n",
       "<tr>\n",
       "  <th>Dep. Variable:</th>     <td>Recovered</td>    <th>  No. Observations:  </th>   <td>74</td>   \n",
       "</tr>\n",
       "<tr>\n",
       "  <th>Model:</th>            <td>ARMA(1, 1)</td>    <th>  Log Likelihood     </th> <td>40.246</td> \n",
       "</tr>\n",
       "<tr>\n",
       "  <th>Method:</th>             <td>css-mle</td>     <th>  S.D. of innovations</th>  <td>0.134</td> \n",
       "</tr>\n",
       "<tr>\n",
       "  <th>Date:</th>          <td>Sat, 04 Apr 2020</td> <th>  AIC                </th> <td>-72.492</td>\n",
       "</tr>\n",
       "<tr>\n",
       "  <th>Time:</th>              <td>22:51:24</td>     <th>  BIC                </th> <td>-63.275</td>\n",
       "</tr>\n",
       "<tr>\n",
       "  <th>Sample:</th>           <td>01-22-2020</td>    <th>  HQIC               </th> <td>-68.815</td>\n",
       "</tr>\n",
       "<tr>\n",
       "  <th></th>                 <td>- 04-04-2020</td>   <th>                     </th>    <td> </td>   \n",
       "</tr>\n",
       "</table>\n",
       "<table class=\"simpletable\">\n",
       "<tr>\n",
       "         <td></td>            <th>coef</th>     <th>std err</th>      <th>z</th>      <th>P>|z|</th>  <th>[0.025</th>    <th>0.975]</th>  \n",
       "</tr>\n",
       "<tr>\n",
       "  <th>const</th>           <td>    7.9609</td> <td>    4.364</td> <td>    1.824</td> <td> 0.072</td> <td>   -0.593</td> <td>   16.515</td>\n",
       "</tr>\n",
       "<tr>\n",
       "  <th>ar.L1.Recovered</th> <td>    0.9989</td> <td>    0.001</td> <td>  671.818</td> <td> 0.000</td> <td>    0.996</td> <td>    1.002</td>\n",
       "</tr>\n",
       "<tr>\n",
       "  <th>ma.L1.Recovered</th> <td>    0.5299</td> <td>    0.088</td> <td>    6.002</td> <td> 0.000</td> <td>    0.357</td> <td>    0.703</td>\n",
       "</tr>\n",
       "</table>\n",
       "<table class=\"simpletable\">\n",
       "<caption>Roots</caption>\n",
       "<tr>\n",
       "    <td></td>   <th>            Real</th>  <th>         Imaginary</th> <th>         Modulus</th>  <th>        Frequency</th>\n",
       "</tr>\n",
       "<tr>\n",
       "  <th>AR.1</th> <td>           1.0011</td> <td>          +0.0000j</td> <td>           1.0011</td> <td>           0.0000</td>\n",
       "</tr>\n",
       "<tr>\n",
       "  <th>MA.1</th> <td>          -1.8870</td> <td>          +0.0000j</td> <td>           1.8870</td> <td>           0.5000</td>\n",
       "</tr>\n",
       "</table>"
      ],
      "text/plain": [
       "<class 'statsmodels.iolib.summary.Summary'>\n",
       "\"\"\"\n",
       "                              ARMA Model Results                              \n",
       "==============================================================================\n",
       "Dep. Variable:              Recovered   No. Observations:                   74\n",
       "Model:                     ARMA(1, 1)   Log Likelihood                  40.246\n",
       "Method:                       css-mle   S.D. of innovations              0.134\n",
       "Date:                Sat, 04 Apr 2020   AIC                            -72.492\n",
       "Time:                        22:51:24   BIC                            -63.275\n",
       "Sample:                    01-22-2020   HQIC                           -68.815\n",
       "                         - 04-04-2020                                         \n",
       "===================================================================================\n",
       "                      coef    std err          z      P>|z|      [0.025      0.975]\n",
       "-----------------------------------------------------------------------------------\n",
       "const               7.9609      4.364      1.824      0.072      -0.593      16.515\n",
       "ar.L1.Recovered     0.9989      0.001    671.818      0.000       0.996       1.002\n",
       "ma.L1.Recovered     0.5299      0.088      6.002      0.000       0.357       0.703\n",
       "                                    Roots                                    \n",
       "=============================================================================\n",
       "                  Real          Imaginary           Modulus         Frequency\n",
       "-----------------------------------------------------------------------------\n",
       "AR.1            1.0011           +0.0000j            1.0011            0.0000\n",
       "MA.1           -1.8870           +0.0000j            1.8870            0.5000\n",
       "-----------------------------------------------------------------------------\n",
       "\"\"\""
      ]
     },
     "execution_count": 44,
     "metadata": {},
     "output_type": "execute_result"
    }
   ],
   "source": [
    "arma_recovered.summary()"
   ]
  },
  {
   "cell_type": "code",
   "execution_count": 56,
   "metadata": {},
   "outputs": [
    {
     "name": "stderr",
     "output_type": "stream",
     "text": [
      "/anaconda3/lib/python3.7/site-packages/statsmodels/tsa/base/tsa_model.py:171: ValueWarning: No frequency information was provided, so inferred frequency D will be used.\n",
      "  % freq, ValueWarning)\n",
      "/anaconda3/lib/python3.7/site-packages/statsmodels/tsa/base/tsa_model.py:171: ValueWarning: No frequency information was provided, so inferred frequency D will be used.\n",
      "  % freq, ValueWarning)\n"
     ]
    },
    {
     "data": {
      "text/html": [
       "<div>\n",
       "<style scoped>\n",
       "    .dataframe tbody tr th:only-of-type {\n",
       "        vertical-align: middle;\n",
       "    }\n",
       "\n",
       "    .dataframe tbody tr th {\n",
       "        vertical-align: top;\n",
       "    }\n",
       "\n",
       "    .dataframe thead th {\n",
       "        text-align: right;\n",
       "    }\n",
       "</style>\n",
       "<table border=\"1\" class=\"dataframe\">\n",
       "  <thead>\n",
       "    <tr style=\"text-align: right;\">\n",
       "      <th></th>\n",
       "      <th>ARIMA Predicted</th>\n",
       "      <th>Actual</th>\n",
       "    </tr>\n",
       "  </thead>\n",
       "  <tbody>\n",
       "    <tr>\n",
       "      <th>2020-03-31</th>\n",
       "      <td>1.108811</td>\n",
       "      <td>42107.0</td>\n",
       "    </tr>\n",
       "    <tr>\n",
       "      <th>2020-04-01</th>\n",
       "      <td>1.106124</td>\n",
       "      <td>46809.0</td>\n",
       "    </tr>\n",
       "    <tr>\n",
       "      <th>2020-04-02</th>\n",
       "      <td>1.124527</td>\n",
       "      <td>52983.0</td>\n",
       "    </tr>\n",
       "    <tr>\n",
       "      <th>2020-04-03</th>\n",
       "      <td>1.129472</td>\n",
       "      <td>58787.0</td>\n",
       "    </tr>\n",
       "    <tr>\n",
       "      <th>2020-04-04</th>\n",
       "      <td>1.114048</td>\n",
       "      <td>64606.0</td>\n",
       "    </tr>\n",
       "  </tbody>\n",
       "</table>\n",
       "</div>"
      ],
      "text/plain": [
       "            ARIMA Predicted   Actual\n",
       "2020-03-31         1.108811  42107.0\n",
       "2020-04-01         1.106124  46809.0\n",
       "2020-04-02         1.124527  52983.0\n",
       "2020-04-03         1.129472  58787.0\n",
       "2020-04-04         1.114048  64606.0"
      ]
     },
     "execution_count": 56,
     "metadata": {},
     "output_type": "execute_result"
    }
   ],
   "source": [
    "# now let's do fit an arima model \n",
    "arima= ARIMA(log_deaths, order=(3,1,2)).fit() #random walk \n",
    "# make prediction\n",
    "arima_y_pred = arima.predict()\n",
    "# display table with predicted and actual values\n",
    "df = pd.DataFrame({'ARIMA Predicted': np.exp(arima_y_pred), 'Actual': np.exp(log_deaths)})\n",
    "df[-5:]"
   ]
  },
  {
   "cell_type": "code",
   "execution_count": 57,
   "metadata": {},
   "outputs": [
    {
     "name": "stderr",
     "output_type": "stream",
     "text": [
      "/anaconda3/lib/python3.7/site-packages/statsmodels/tsa/base/tsa_model.py:171: ValueWarning: No frequency information was provided, so inferred frequency D will be used.\n",
      "  % freq, ValueWarning)\n",
      "/anaconda3/lib/python3.7/site-packages/statsmodels/tsa/base/tsa_model.py:336: FutureWarning: Creating a DatetimeIndex by passing range endpoints is deprecated.  Use `pandas.date_range` instead.\n",
      "  freq=base_index.freq)\n"
     ]
    },
    {
     "data": {
      "text/plain": [
       "<matplotlib.legend.Legend at 0x1c21fe7c88>"
      ]
     },
     "execution_count": 57,
     "metadata": {},
     "output_type": "execute_result"
    },
    {
     "data": {
      "image/png": "[encoded data removed]",
      "text/plain": [
       "<Figure size 432x288 with 1 Axes>"
      ]
     },
     "metadata": {
      "needs_background": "light"
     },
     "output_type": "display_data"
    }
   ],
   "source": [
    "# forecast confirmed number of cases of covid-19\n",
    "arma_confirmed = ARMA(log_confirmed, order=(0,1,1)).fit()\n",
    "confirmed_forecast = arma_confirmed.predict(start='2020-01-22', end='2020-5-30')\n",
    "\n",
    "# plot the forecast against the actual number of confirmed cases so far\n",
    "np.exp(confirmed_forecast).plot.line(color='red', label='Forecast of confirmed COVID-19')\n",
    "covid_data['Confirmed'].plot(color='blue', label='Already confirmed cases')\n",
    "plt.title('COVID-19 Confirmed Forecast')\n",
    "\n",
    "plt.legend()"
   ]
  },
  {
   "cell_type": "code",
   "execution_count": 58,
   "metadata": {},
   "outputs": [
    {
     "data": {
      "text/plain": [
       "<matplotlib.legend.Legend at 0x1c2219bc50>"
      ]
     },
     "execution_count": 58,
     "metadata": {},
     "output_type": "execute_result"
    },
    {
     "data": {
      "image/png": "[encoded data removed]",
      "text/plain": [
       "<Figure size 432x288 with 1 Axes>"
      ]
     },
     "metadata": {
      "needs_background": "light"
     },
     "output_type": "display_data"
    }
   ],
   "source": [
    "# plot current mortality rate plotted against the forecast\n",
    "(covid_data['Deaths'] / covid_data['Confirmed']*100).plot.line(color='blue', label='Actual mortality rate' )\n",
    "np.exp((deaths_forecast/confirmed_forecast)).plot.line(color='red', label='Forecasted mortality')\n",
    "\n",
    "plt.legend()"
   ]
  },
  {
   "cell_type": "code",
   "execution_count": 59,
   "metadata": {},
   "outputs": [
    {
     "data": {
      "text/plain": [
       "2020-01-22     1341.595588\n",
       "2020-01-23       17.059513\n",
       "2020-01-24       18.979372\n",
       "2020-01-25       35.316728\n",
       "2020-01-26       62.467217\n",
       "2020-01-27       71.170661\n",
       "2020-01-28      112.444449\n",
       "2020-01-29      192.760477\n",
       "2020-01-30      135.110396\n",
       "2020-01-31      210.618365\n",
       "2020-02-01      255.561102\n",
       "2020-02-02      304.607212\n",
       "2020-02-03      476.839931\n",
       "2020-02-04      487.433188\n",
       "2020-02-05      554.271612\n",
       "2020-02-06      631.395168\n",
       "2020-02-07      698.373380\n",
       "2020-02-08      797.586068\n",
       "2020-02-09      885.519084\n",
       "2020-02-10      997.441265\n",
       "2020-02-11     1110.219025\n",
       "2020-02-12     1202.340329\n",
       "2020-02-13     1122.400435\n",
       "2020-02-14     1619.681235\n",
       "2020-02-15     1659.349913\n",
       "2020-02-16     1792.219070\n",
       "2020-02-17     1859.049078\n",
       "2020-02-18     1951.168341\n",
       "2020-02-19     2127.000087\n",
       "2020-02-20     2219.381635\n",
       "                  ...     \n",
       "2020-03-22    14475.842075\n",
       "2020-03-23    16126.169366\n",
       "2020-03-24    18126.867346\n",
       "2020-03-25    20479.806609\n",
       "2020-03-26    23434.113931\n",
       "2020-03-27    26409.026060\n",
       "2020-03-28    30024.739429\n",
       "2020-03-29    33644.731814\n",
       "2020-03-30    36685.101248\n",
       "2020-03-31    40664.103275\n",
       "2020-04-01    45975.892020\n",
       "2020-04-02    50776.204354\n",
       "2020-04-03    58316.315645\n",
       "2020-04-04    63648.728608\n",
       "2020-04-05    69394.883041\n",
       "2020-04-06    73150.248378\n",
       "2020-04-07    75927.121958\n",
       "2020-04-08    77816.732990\n",
       "2020-04-09    78928.607828\n",
       "2020-04-10    79377.482608\n",
       "2020-04-11    79274.574968\n",
       "2020-04-12    78722.355868\n",
       "2020-04-13    77811.901169\n",
       "2020-04-14    76622.009918\n",
       "2020-04-15    75219.444677\n",
       "2020-04-16    73659.819778\n",
       "2020-04-17    71988.809710\n",
       "2020-04-18    70243.463895\n",
       "2020-04-19    68453.497437\n",
       "2020-04-20    66642.485149\n",
       "Freq: D, Length: 90, dtype: float64"
      ]
     },
     "execution_count": 59,
     "metadata": {},
     "output_type": "execute_result"
    }
   ],
   "source": [
    "# last 60 forecasted dates\n",
    "np.exp(deaths_forecast)[:90]"
   ]
  },
  {
   "cell_type": "code",
   "execution_count": 82,
   "metadata": {},
   "outputs": [
    {
     "name": "stdout",
     "output_type": "stream",
     "text": [
      "79377.0 covid-19 deaths predicted to be reported on 2020-04-10 00:00:00\n"
     ]
    }
   ],
   "source": [
    "# find the max number of predicted deaths and on which day. \n",
    "for k, v in deaths_forecast.items():\n",
    "    if np.exp(v) == np.exp(deaths_forecast).max():\n",
    "        print(np.exp(v).round(), 'covid-19 deaths predicted to be reported on', k)"
   ]
  }
 ],
 "metadata": {
  "kernelspec": {
   "display_name": "Python 3",
   "language": "python",
   "name": "python3"
  },
  "language_info": {
   "codemirror_mode": {
    "name": "ipython",
    "version": 3
   },
   "file_extension": ".py",
   "mimetype": "text/x-python",
   "name": "python",
   "nbconvert_exporter": "python",
   "pygments_lexer": "ipython3",
   "version": "3.7.3"
  }
 },
 "nbformat": 4,
 "nbformat_minor": 2
}
